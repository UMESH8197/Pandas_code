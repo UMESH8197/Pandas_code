{
 "cells": [
  {
   "cell_type": "code",
   "execution_count": null,
   "id": "bc38f318",
   "metadata": {},
   "outputs": [],
   "source": [
    "import pandas as pd"
   ]
  },
  {
   "cell_type": "code",
   "execution_count": null,
   "id": "a35f7067",
   "metadata": {},
   "outputs": [],
   "source": [
    "df = pd.read_csv('survey_results_public.csv', index_col='ResponseId')\n",
    "schema_df = pd.read_csv('survey_results_schema.csv',index_col= 'qname')"
   ]
  },
  {
   "cell_type": "code",
   "execution_count": null,
   "id": "cd4b36e1",
   "metadata": {},
   "outputs": [],
   "source": [
    "df"
   ]
  },
  {
   "cell_type": "code",
   "execution_count": null,
   "id": "f776e5aa",
   "metadata": {},
   "outputs": [],
   "source": [
    "df.shape"
   ]
  },
  {
   "cell_type": "code",
   "execution_count": null,
   "id": "a831c852",
   "metadata": {},
   "outputs": [],
   "source": [
    "df.info()"
   ]
  },
  {
   "cell_type": "code",
   "execution_count": null,
   "id": "29a25bd9",
   "metadata": {},
   "outputs": [],
   "source": [
    "pd.set_option('display.max_columns',85)\n",
    "pd.set_option('display.max_rows',85)"
   ]
  },
  {
   "cell_type": "code",
   "execution_count": null,
   "id": "897139b9",
   "metadata": {},
   "outputs": [],
   "source": [
    "df"
   ]
  },
  {
   "cell_type": "code",
   "execution_count": null,
   "id": "ceee3372",
   "metadata": {},
   "outputs": [],
   "source": [
    "schema_df = pd.read_csv('survey_results_schema.csv')"
   ]
  },
  {
   "cell_type": "code",
   "execution_count": null,
   "id": "c1037e86",
   "metadata": {},
   "outputs": [],
   "source": [
    "schema_df"
   ]
  },
  {
   "cell_type": "code",
   "execution_count": null,
   "id": "69aa2930",
   "metadata": {},
   "outputs": [],
   "source": [
    "df.head()"
   ]
  },
  {
   "cell_type": "code",
   "execution_count": null,
   "id": "2c1e8d51",
   "metadata": {},
   "outputs": [],
   "source": [
    "df.head(10)"
   ]
  },
  {
   "cell_type": "code",
   "execution_count": null,
   "id": "a7984794",
   "metadata": {},
   "outputs": [],
   "source": [
    "df.tail()"
   ]
  },
  {
   "cell_type": "code",
   "execution_count": null,
   "id": "66734d1b",
   "metadata": {},
   "outputs": [],
   "source": [
    "df.tail(10)"
   ]
  },
  {
   "cell_type": "markdown",
   "id": "7fc55075",
   "metadata": {},
   "source": [
    "# 2nd video"
   ]
  },
  {
   "cell_type": "code",
   "execution_count": null,
   "id": "9b8b4c9c",
   "metadata": {},
   "outputs": [],
   "source": [
    "person = {\n",
    "    \"first\": \"Corey\", \n",
    "    \"last\": \"Schafer\", \n",
    "    \"email\": \"CoreyMSchafer@gmail.com\"\n",
    "}"
   ]
  },
  {
   "cell_type": "code",
   "execution_count": null,
   "id": "53bb2a34",
   "metadata": {},
   "outputs": [],
   "source": [
    "people = {\n",
    "    \"first\": [\"Corey\"], \n",
    "    \"last\": [\"Schafer\"], \n",
    "    \"email\": [\"CoreyMSchafer@gmail.com\"]\n",
    "}\n"
   ]
  },
  {
   "cell_type": "code",
   "execution_count": null,
   "id": "cea69d75",
   "metadata": {},
   "outputs": [],
   "source": [
    "people = {\n",
    "    \"first\": [\"Corey\", 'Jane', 'John'], \n",
    "    \"last\": [\"Schafer\", 'Doe', 'Doe'], \n",
    "    \"email\": [\"CoreyMSchafer@gmail.com\", 'JaneDoe@email.com', 'JohnDoe@email.com']\n",
    "}"
   ]
  },
  {
   "cell_type": "code",
   "execution_count": null,
   "id": "a44d8e2a",
   "metadata": {},
   "outputs": [],
   "source": [
    "people['email']"
   ]
  },
  {
   "cell_type": "code",
   "execution_count": null,
   "id": "f2e0b887",
   "metadata": {},
   "outputs": [],
   "source": [
    "import pandas as pd"
   ]
  },
  {
   "cell_type": "code",
   "execution_count": null,
   "id": "dabf8f29",
   "metadata": {},
   "outputs": [],
   "source": [
    "df = pd.DataFrame(people)"
   ]
  },
  {
   "cell_type": "code",
   "execution_count": null,
   "id": "34daa590",
   "metadata": {},
   "outputs": [],
   "source": [
    "df"
   ]
  },
  {
   "cell_type": "code",
   "execution_count": null,
   "id": "47bf1023",
   "metadata": {},
   "outputs": [],
   "source": [
    "df['email']"
   ]
  },
  {
   "cell_type": "code",
   "execution_count": null,
   "id": "156b6dc8",
   "metadata": {},
   "outputs": [],
   "source": [
    "type(df['email'])"
   ]
  },
  {
   "cell_type": "code",
   "execution_count": null,
   "id": "20112dfc",
   "metadata": {},
   "outputs": [],
   "source": [
    "# series is list of data,one dimensional array, rows of data or rows of single column.\n",
    "# Dataframe is container for multiple of these series objects. dataframe is 2 dimensional. "
   ]
  },
  {
   "cell_type": "code",
   "execution_count": null,
   "id": "a6231b6e",
   "metadata": {},
   "outputs": [],
   "source": [
    "df.email"
   ]
  },
  {
   "cell_type": "code",
   "execution_count": null,
   "id": "3f401cfa",
   "metadata": {},
   "outputs": [],
   "source": [
    "df[['last','email']]"
   ]
  },
  {
   "cell_type": "code",
   "execution_count": null,
   "id": "02038db0",
   "metadata": {},
   "outputs": [],
   "source": [
    "df.columns"
   ]
  },
  {
   "cell_type": "code",
   "execution_count": null,
   "id": "fd43931c",
   "metadata": {},
   "outputs": [],
   "source": [
    "df.iloc[0]"
   ]
  },
  {
   "cell_type": "code",
   "execution_count": null,
   "id": "a31454ab",
   "metadata": {},
   "outputs": [],
   "source": [
    "df.iloc[[0,1]]"
   ]
  },
  {
   "cell_type": "code",
   "execution_count": null,
   "id": "8df1ee10",
   "metadata": {},
   "outputs": [],
   "source": [
    "df.iloc[[0,1],2] # with iloc we are searching by integer location. By loc we are searching by label. "
   ]
  },
  {
   "cell_type": "code",
   "execution_count": null,
   "id": "2d1ab8dc",
   "metadata": {},
   "outputs": [],
   "source": [
    "df"
   ]
  },
  {
   "cell_type": "code",
   "execution_count": null,
   "id": "cc1b1657",
   "metadata": {},
   "outputs": [],
   "source": [
    "df.loc[0]"
   ]
  },
  {
   "cell_type": "code",
   "execution_count": null,
   "id": "0a88f64f",
   "metadata": {},
   "outputs": [],
   "source": [
    "df.loc[[0,1]]"
   ]
  },
  {
   "cell_type": "code",
   "execution_count": null,
   "id": "1be7b8b4",
   "metadata": {},
   "outputs": [],
   "source": [
    "df.loc[[0,1],'email']"
   ]
  },
  {
   "cell_type": "code",
   "execution_count": null,
   "id": "1704f247",
   "metadata": {},
   "outputs": [],
   "source": [
    "df.loc[[0,1],['email','last']]"
   ]
  },
  {
   "cell_type": "code",
   "execution_count": null,
   "id": "ae748e0b",
   "metadata": {},
   "outputs": [],
   "source": [
    "df.shape"
   ]
  },
  {
   "cell_type": "code",
   "execution_count": null,
   "id": "0d052c79",
   "metadata": {},
   "outputs": [],
   "source": [
    "df.columns"
   ]
  },
  {
   "cell_type": "code",
   "execution_count": null,
   "id": "4c7a1d0e",
   "metadata": {},
   "outputs": [],
   "source": [
    "df['SOAccount'].value_counts()"
   ]
  },
  {
   "cell_type": "code",
   "execution_count": null,
   "id": "c427813f",
   "metadata": {},
   "outputs": [],
   "source": [
    "df.loc[0,'SOAccount']"
   ]
  },
  {
   "cell_type": "code",
   "execution_count": null,
   "id": "e67b404c",
   "metadata": {},
   "outputs": [],
   "source": [
    "df.loc[[1,2,3,4],'SOAccount']"
   ]
  },
  {
   "cell_type": "code",
   "execution_count": null,
   "id": "74f9ec39",
   "metadata": {},
   "outputs": [],
   "source": [
    "df.loc[1:20,'SOAccount']"
   ]
  },
  {
   "cell_type": "code",
   "execution_count": null,
   "id": "61cc77dc",
   "metadata": {},
   "outputs": [],
   "source": [
    "df.loc[1:5,'SOAccount':'NEWOtherComms']"
   ]
  },
  {
   "cell_type": "code",
   "execution_count": null,
   "id": "389d82f0",
   "metadata": {},
   "outputs": [],
   "source": []
  },
  {
   "cell_type": "markdown",
   "id": "3f4d8c62",
   "metadata": {},
   "source": [
    "# 3rd video"
   ]
  },
  {
   "cell_type": "code",
   "execution_count": null,
   "id": "10772c88",
   "metadata": {},
   "outputs": [],
   "source": [
    "people = {\n",
    "    \"first\": [\"Corey\", 'Jane', 'John'], \n",
    "    \"last\": [\"Schafer\", 'Doe', 'Doe'], \n",
    "    \"email\": [\"CoreyMSchafer@gmail.com\", 'JaneDoe@email.com', 'JohnDoe@email.com']\n",
    "}\n"
   ]
  },
  {
   "cell_type": "code",
   "execution_count": null,
   "id": "07876454",
   "metadata": {},
   "outputs": [],
   "source": [
    "df = pd.DataFrame(people)\n",
    "df"
   ]
  },
  {
   "cell_type": "code",
   "execution_count": null,
   "id": "2e163422",
   "metadata": {},
   "outputs": [],
   "source": [
    "df['email']"
   ]
  },
  {
   "cell_type": "code",
   "execution_count": null,
   "id": "afa4939c",
   "metadata": {},
   "outputs": [],
   "source": [
    "df.set_index('email')"
   ]
  },
  {
   "cell_type": "code",
   "execution_count": null,
   "id": "039c4f87",
   "metadata": {},
   "outputs": [],
   "source": [
    "df"
   ]
  },
  {
   "cell_type": "code",
   "execution_count": null,
   "id": "c54c1268",
   "metadata": {},
   "outputs": [],
   "source": [
    "df.set_index('email',inplace=True)"
   ]
  },
  {
   "cell_type": "code",
   "execution_count": null,
   "id": "7639c995",
   "metadata": {},
   "outputs": [],
   "source": [
    "df"
   ]
  },
  {
   "cell_type": "code",
   "execution_count": null,
   "id": "2467797e",
   "metadata": {},
   "outputs": [],
   "source": [
    "df.index"
   ]
  },
  {
   "cell_type": "code",
   "execution_count": null,
   "id": "75bbf556",
   "metadata": {},
   "outputs": [],
   "source": [
    "df.loc['CoreyMSchafer@gmail.com']"
   ]
  },
  {
   "cell_type": "code",
   "execution_count": null,
   "id": "971e5498",
   "metadata": {},
   "outputs": [],
   "source": [
    "df.loc['CoreyMSchafer@gmail.com','last']"
   ]
  },
  {
   "cell_type": "code",
   "execution_count": null,
   "id": "f3878303",
   "metadata": {},
   "outputs": [],
   "source": [
    "df.iloc[0]"
   ]
  },
  {
   "cell_type": "code",
   "execution_count": null,
   "id": "fc1a390e",
   "metadata": {},
   "outputs": [],
   "source": [
    "df.reset_index(inplace=True)"
   ]
  },
  {
   "cell_type": "code",
   "execution_count": null,
   "id": "1ab9c235",
   "metadata": {},
   "outputs": [],
   "source": [
    "df"
   ]
  },
  {
   "cell_type": "code",
   "execution_count": null,
   "id": "3bdf9db1",
   "metadata": {},
   "outputs": [],
   "source": [
    "df.loc[1]"
   ]
  },
  {
   "cell_type": "code",
   "execution_count": null,
   "id": "c0633cb8",
   "metadata": {},
   "outputs": [],
   "source": [
    "schema_df"
   ]
  },
  {
   "cell_type": "code",
   "execution_count": null,
   "id": "ff058fad",
   "metadata": {},
   "outputs": [],
   "source": [
    "schema_df.loc['Sexuality','question']"
   ]
  },
  {
   "cell_type": "code",
   "execution_count": null,
   "id": "e3676a2c",
   "metadata": {},
   "outputs": [],
   "source": [
    "schema_df.sort_index()"
   ]
  },
  {
   "cell_type": "code",
   "execution_count": null,
   "id": "19756338",
   "metadata": {},
   "outputs": [],
   "source": [
    "schema_df.sort_index(ascending=False)"
   ]
  },
  {
   "cell_type": "code",
   "execution_count": null,
   "id": "3b60da7a",
   "metadata": {},
   "outputs": [],
   "source": []
  },
  {
   "cell_type": "markdown",
   "id": "8e54e57d",
   "metadata": {},
   "source": [
    "# 4th video Filtering"
   ]
  },
  {
   "cell_type": "code",
   "execution_count": null,
   "id": "7fd80848",
   "metadata": {},
   "outputs": [],
   "source": [
    "people = {\n",
    "    \"first\": [\"Corey\", 'Jane', 'John'], \n",
    "    \"last\": [\"Schafer\", 'Doe', 'Doe'], \n",
    "    \"email\": [\"CoreyMSchafer@gmail.com\", 'JaneDoe@email.com', 'JohnDoe@email.com']\n",
    "}\n"
   ]
  },
  {
   "cell_type": "code",
   "execution_count": null,
   "id": "f1c5ddf8",
   "metadata": {},
   "outputs": [],
   "source": [
    "df = pd.DataFrame(people)\n",
    "df"
   ]
  },
  {
   "cell_type": "code",
   "execution_count": null,
   "id": "1fdc6703",
   "metadata": {},
   "outputs": [],
   "source": [
    "# filt = df['last'] == 'Doe'\n",
    "filt = (df['last'] == 'Doe')"
   ]
  },
  {
   "cell_type": "code",
   "execution_count": null,
   "id": "af666081",
   "metadata": {},
   "outputs": [],
   "source": [
    "df[filt]"
   ]
  },
  {
   "cell_type": "code",
   "execution_count": null,
   "id": "3dfe996c",
   "metadata": {},
   "outputs": [],
   "source": [
    "df [df['last'] == 'Doe']"
   ]
  },
  {
   "cell_type": "code",
   "execution_count": null,
   "id": "2cc1ee35",
   "metadata": {},
   "outputs": [],
   "source": [
    "df.loc[filt,'email']"
   ]
  },
  {
   "cell_type": "code",
   "execution_count": null,
   "id": "2d38e428",
   "metadata": {},
   "outputs": [],
   "source": [
    "filt = (df['last'] == 'Doe') & (df['first'] == 'John')"
   ]
  },
  {
   "cell_type": "code",
   "execution_count": null,
   "id": "bf734380",
   "metadata": {},
   "outputs": [],
   "source": [
    "df.loc[filt,'email']"
   ]
  },
  {
   "cell_type": "code",
   "execution_count": null,
   "id": "da58764c",
   "metadata": {},
   "outputs": [],
   "source": [
    "filt = (df['last'] == 'Schafer') | (df['first'] == 'John')"
   ]
  },
  {
   "cell_type": "code",
   "execution_count": null,
   "id": "983ad297",
   "metadata": {},
   "outputs": [],
   "source": [
    "df.loc[filt,'email']"
   ]
  },
  {
   "cell_type": "code",
   "execution_count": null,
   "id": "1cc2804c",
   "metadata": {},
   "outputs": [],
   "source": [
    "df.loc[-filt,'email']"
   ]
  },
  {
   "cell_type": "code",
   "execution_count": null,
   "id": "a1b8e008",
   "metadata": {},
   "outputs": [],
   "source": [
    "df.columns"
   ]
  },
  {
   "cell_type": "code",
   "execution_count": null,
   "id": "0d98819f",
   "metadata": {},
   "outputs": [],
   "source": [
    "high_salary = (df['ConvertedCompYearly'] > 70000)"
   ]
  },
  {
   "cell_type": "code",
   "execution_count": null,
   "id": "bb946fdd",
   "metadata": {},
   "outputs": [],
   "source": [
    "df.loc[high_salary,['Country','Gender','ConvertedCompYearly']]"
   ]
  },
  {
   "cell_type": "code",
   "execution_count": null,
   "id": "7f4ffb47",
   "metadata": {},
   "outputs": [],
   "source": [
    "countries = ['India','United States of America','Germany','Canada','United Kingdom']\n",
    "filt = df['Country'].isin(countries)"
   ]
  },
  {
   "cell_type": "code",
   "execution_count": null,
   "id": "a9a6b107",
   "metadata": {},
   "outputs": [],
   "source": [
    "df.loc[filt,'Country']"
   ]
  },
  {
   "cell_type": "code",
   "execution_count": null,
   "id": "ee462e65",
   "metadata": {},
   "outputs": [],
   "source": [
    "df.head()"
   ]
  },
  {
   "cell_type": "code",
   "execution_count": null,
   "id": "99f36a77",
   "metadata": {},
   "outputs": [],
   "source": [
    "df['LanguageHaveWorkedWith']"
   ]
  },
  {
   "cell_type": "code",
   "execution_count": null,
   "id": "1dc32d8a",
   "metadata": {},
   "outputs": [],
   "source": [
    "filt = df['LanguageHaveWorkedWith'].str.contains('Python',na = False)"
   ]
  },
  {
   "cell_type": "code",
   "execution_count": null,
   "id": "254cca33",
   "metadata": {},
   "outputs": [],
   "source": [
    "df.loc[filt,'LanguageHaveWorkedWith']"
   ]
  },
  {
   "cell_type": "code",
   "execution_count": null,
   "id": "eb7cdebe",
   "metadata": {},
   "outputs": [],
   "source": [
    "filt"
   ]
  },
  {
   "cell_type": "code",
   "execution_count": null,
   "id": "cf476305",
   "metadata": {},
   "outputs": [],
   "source": [
    "df.loc[filt]"
   ]
  },
  {
   "cell_type": "code",
   "execution_count": null,
   "id": "84cb8a06",
   "metadata": {},
   "outputs": [],
   "source": []
  },
  {
   "cell_type": "markdown",
   "id": "4f241500",
   "metadata": {},
   "source": [
    "# 5th Video updating and Modifying"
   ]
  },
  {
   "cell_type": "code",
   "execution_count": null,
   "id": "d65e2017",
   "metadata": {},
   "outputs": [],
   "source": [
    "people = {\n",
    "    \"first\": [\"Corey\", 'Jane', 'John'], \n",
    "    \"last\": [\"Schafer\", 'Doe', 'Doe'], \n",
    "    \"email\": [\"CoreyMSchafer@gmail.com\", 'JaneDoe@email.com', 'JohnDoe@email.com']\n",
    "}\n"
   ]
  },
  {
   "cell_type": "code",
   "execution_count": null,
   "id": "7c7cf8eb",
   "metadata": {},
   "outputs": [],
   "source": [
    "df = pd.DataFrame(people)"
   ]
  },
  {
   "cell_type": "code",
   "execution_count": null,
   "id": "421de93a",
   "metadata": {},
   "outputs": [],
   "source": [
    "df.columns"
   ]
  },
  {
   "cell_type": "code",
   "execution_count": null,
   "id": "e92e061f",
   "metadata": {},
   "outputs": [],
   "source": [
    "df.columns = ['first_name','last_name','email']"
   ]
  },
  {
   "cell_type": "code",
   "execution_count": null,
   "id": "6be5971e",
   "metadata": {},
   "outputs": [],
   "source": [
    "df.columns"
   ]
  },
  {
   "cell_type": "code",
   "execution_count": null,
   "id": "291a83b1",
   "metadata": {},
   "outputs": [],
   "source": [
    "df"
   ]
  },
  {
   "cell_type": "code",
   "execution_count": null,
   "id": "d4d2dd5a",
   "metadata": {},
   "outputs": [],
   "source": [
    "df.columns = [x.upper() for x in df.columns]\n",
    "df"
   ]
  },
  {
   "cell_type": "code",
   "execution_count": null,
   "id": "51c8ed16",
   "metadata": {},
   "outputs": [],
   "source": [
    "df.columns = [x.lower() for x in df.columns]\n",
    "df"
   ]
  },
  {
   "cell_type": "code",
   "execution_count": null,
   "id": "270762c0",
   "metadata": {},
   "outputs": [],
   "source": [
    "df.columns = df.columns.str.replace('_',' ')\n",
    "df"
   ]
  },
  {
   "cell_type": "code",
   "execution_count": null,
   "id": "581724cb",
   "metadata": {},
   "outputs": [],
   "source": [
    "df.columns = df.columns.str.replace(' ','_')\n",
    "df"
   ]
  },
  {
   "cell_type": "code",
   "execution_count": null,
   "id": "dad0a866",
   "metadata": {},
   "outputs": [],
   "source": [
    "df.rename(columns={'first_name':'first','last_name':'last'})"
   ]
  },
  {
   "cell_type": "code",
   "execution_count": null,
   "id": "69ad904b",
   "metadata": {},
   "outputs": [],
   "source": [
    "df"
   ]
  },
  {
   "cell_type": "code",
   "execution_count": null,
   "id": "4cf4fe84",
   "metadata": {},
   "outputs": [],
   "source": [
    "df.rename(columns={'first_name':'first','last_name':'last'},inplace=True)"
   ]
  },
  {
   "cell_type": "code",
   "execution_count": null,
   "id": "4bf906b4",
   "metadata": {},
   "outputs": [],
   "source": [
    "df"
   ]
  },
  {
   "cell_type": "code",
   "execution_count": null,
   "id": "d229290b",
   "metadata": {},
   "outputs": [],
   "source": [
    "df.loc[2]"
   ]
  },
  {
   "cell_type": "code",
   "execution_count": null,
   "id": "d60aad99",
   "metadata": {},
   "outputs": [],
   "source": [
    "df.loc[2] = ['umesh','pawar','umeshkpawar10@gmail.com']"
   ]
  },
  {
   "cell_type": "code",
   "execution_count": null,
   "id": "452c6805",
   "metadata": {},
   "outputs": [],
   "source": [
    "df"
   ]
  },
  {
   "cell_type": "code",
   "execution_count": null,
   "id": "5a54716d",
   "metadata": {},
   "outputs": [],
   "source": [
    "df.loc[2,['last','email']] = ['Dov','JohnDov@gmail.com']"
   ]
  },
  {
   "cell_type": "code",
   "execution_count": null,
   "id": "53aa899f",
   "metadata": {},
   "outputs": [],
   "source": [
    "df"
   ]
  },
  {
   "cell_type": "code",
   "execution_count": null,
   "id": "38c106bc",
   "metadata": {},
   "outputs": [],
   "source": [
    "df.loc[2,'first'] = 'john'"
   ]
  },
  {
   "cell_type": "code",
   "execution_count": null,
   "id": "d71b730b",
   "metadata": {},
   "outputs": [],
   "source": [
    "df"
   ]
  },
  {
   "cell_type": "code",
   "execution_count": null,
   "id": "a77b8780",
   "metadata": {},
   "outputs": [],
   "source": [
    "df.at[2,'first'] = 'John'"
   ]
  },
  {
   "cell_type": "code",
   "execution_count": null,
   "id": "6021027b",
   "metadata": {},
   "outputs": [],
   "source": [
    "df"
   ]
  },
  {
   "cell_type": "code",
   "execution_count": null,
   "id": "433b9c56",
   "metadata": {},
   "outputs": [],
   "source": [
    "df.at[2,'email'] = 'JohnDoe@gmail.com'\n"
   ]
  },
  {
   "cell_type": "code",
   "execution_count": null,
   "id": "65d77bd7",
   "metadata": {},
   "outputs": [],
   "source": [
    "df"
   ]
  },
  {
   "cell_type": "code",
   "execution_count": null,
   "id": "64334333",
   "metadata": {},
   "outputs": [],
   "source": [
    "filt = (df['email'] == 'JohnDoe@gmail.com')\n",
    "df[filt]"
   ]
  },
  {
   "cell_type": "code",
   "execution_count": null,
   "id": "5348f9ee",
   "metadata": {},
   "outputs": [],
   "source": [
    "filt = (df['email'] == 'JohnDoe@gmail.com')\n",
    "df[filt]['last']"
   ]
  },
  {
   "cell_type": "code",
   "execution_count": null,
   "id": "fcc48da0",
   "metadata": {},
   "outputs": [],
   "source": [
    "filt = (df['email'] == 'JohnDoe@gmail.com')\n",
    "df[filt]['last'] = 'pawar'"
   ]
  },
  {
   "cell_type": "code",
   "execution_count": null,
   "id": "fa1d2f1d",
   "metadata": {},
   "outputs": [],
   "source": [
    "df"
   ]
  },
  {
   "cell_type": "code",
   "execution_count": null,
   "id": "37e650d4",
   "metadata": {},
   "outputs": [],
   "source": [
    "filt = (df['email'] == 'JohnDoe@gmail.com')\n",
    "df.loc[filt, 'last'] = 'pawar'"
   ]
  },
  {
   "cell_type": "code",
   "execution_count": null,
   "id": "d1783d18",
   "metadata": {},
   "outputs": [],
   "source": [
    "df"
   ]
  },
  {
   "cell_type": "code",
   "execution_count": null,
   "id": "4f225b28",
   "metadata": {},
   "outputs": [],
   "source": [
    "df['email'] = df['email'].str.lower()"
   ]
  },
  {
   "cell_type": "code",
   "execution_count": null,
   "id": "0d2e42ea",
   "metadata": {},
   "outputs": [],
   "source": [
    "df"
   ]
  },
  {
   "cell_type": "code",
   "execution_count": null,
   "id": "d1b769f5",
   "metadata": {},
   "outputs": [],
   "source": [
    "# functions on series and dataframe: \n",
    "\n",
    "# apply: used for calling a fun on values, can work on DataFrmame or Series. \n",
    "# map\n",
    "# applymap\n",
    "# replace"
   ]
  },
  {
   "cell_type": "code",
   "execution_count": null,
   "id": "564cbc2c",
   "metadata": {},
   "outputs": [],
   "source": [
    "# working on series. \n",
    "df['email'].apply(len)"
   ]
  },
  {
   "cell_type": "code",
   "execution_count": null,
   "id": "420e3d6c",
   "metadata": {},
   "outputs": [],
   "source": [
    "def update_email(email):\n",
    "    return email.upper()"
   ]
  },
  {
   "cell_type": "code",
   "execution_count": null,
   "id": "4242f382",
   "metadata": {},
   "outputs": [],
   "source": [
    "df['email'].apply(update_email)"
   ]
  },
  {
   "cell_type": "code",
   "execution_count": null,
   "id": "660c9e19",
   "metadata": {},
   "outputs": [],
   "source": [
    "df"
   ]
  },
  {
   "cell_type": "code",
   "execution_count": null,
   "id": "46cf20a5",
   "metadata": {},
   "outputs": [],
   "source": [
    "df['email']=df['email'].apply(update_email)"
   ]
  },
  {
   "cell_type": "code",
   "execution_count": null,
   "id": "de07ee33",
   "metadata": {},
   "outputs": [],
   "source": [
    "df"
   ]
  },
  {
   "cell_type": "code",
   "execution_count": null,
   "id": "ea8051e5",
   "metadata": {},
   "outputs": [],
   "source": [
    "df['email']=df['email'].apply(lambda x:x.lower())"
   ]
  },
  {
   "cell_type": "code",
   "execution_count": null,
   "id": "0729477a",
   "metadata": {},
   "outputs": [],
   "source": [
    "df"
   ]
  },
  {
   "cell_type": "code",
   "execution_count": null,
   "id": "15ceb602",
   "metadata": {},
   "outputs": [],
   "source": [
    "# so far we have applied on series. it applied on all columns. \n",
    "# if apply dataframe it will apply on each row and each column"
   ]
  },
  {
   "cell_type": "code",
   "execution_count": null,
   "id": "596014c8",
   "metadata": {},
   "outputs": [],
   "source": [
    "# lets's work on dataframe\n",
    "df['email'].apply(len)"
   ]
  },
  {
   "cell_type": "code",
   "execution_count": null,
   "id": "0af97a72",
   "metadata": {},
   "outputs": [],
   "source": [
    "df.apply(len)\n",
    "# Here it is not applying len fun to every value in dataframe. it is applying to each series in dataframe specifically the column "
   ]
  },
  {
   "cell_type": "code",
   "execution_count": null,
   "id": "cb795a03",
   "metadata": {},
   "outputs": [],
   "source": [
    "len(df['email'])"
   ]
  },
  {
   "cell_type": "code",
   "execution_count": null,
   "id": "adfd28c6",
   "metadata": {},
   "outputs": [],
   "source": [
    "df.apply(len,axis='columns')"
   ]
  },
  {
   "cell_type": "code",
   "execution_count": null,
   "id": "b5784db5",
   "metadata": {},
   "outputs": [],
   "source": [
    "df.apply(pd.Series.min)"
   ]
  },
  {
   "cell_type": "code",
   "execution_count": null,
   "id": "24d6a485",
   "metadata": {},
   "outputs": [],
   "source": [
    "df.apply(lambda x:x.min())"
   ]
  },
  {
   "cell_type": "code",
   "execution_count": null,
   "id": "a62e24b7",
   "metadata": {},
   "outputs": [],
   "source": [
    "df.applymap(len)"
   ]
  },
  {
   "cell_type": "code",
   "execution_count": null,
   "id": "397337e8",
   "metadata": {},
   "outputs": [],
   "source": [
    "df.applymap(str.lower)"
   ]
  },
  {
   "cell_type": "code",
   "execution_count": null,
   "id": "d17d0883",
   "metadata": {},
   "outputs": [],
   "source": [
    "# map fun only work on series \n",
    "df['first'].map({'Corey': 'Chris','John':'Umesh'})"
   ]
  },
  {
   "cell_type": "code",
   "execution_count": null,
   "id": "9e3386a8",
   "metadata": {},
   "outputs": [],
   "source": [
    "df['first']=df['first'].replace({'Corey': 'Chris','John':'Umesh'})"
   ]
  },
  {
   "cell_type": "code",
   "execution_count": null,
   "id": "5e2681b4",
   "metadata": {},
   "outputs": [],
   "source": [
    "df"
   ]
  },
  {
   "cell_type": "code",
   "execution_count": null,
   "id": "02fc96c5",
   "metadata": {},
   "outputs": [],
   "source": []
  },
  {
   "cell_type": "code",
   "execution_count": null,
   "id": "425d209f",
   "metadata": {},
   "outputs": [],
   "source": [
    "df.head()"
   ]
  },
  {
   "cell_type": "code",
   "execution_count": null,
   "id": "bf333b9a",
   "metadata": {},
   "outputs": [],
   "source": [
    "df.rename(columns={'ConvertedCompYearly':'SalaryUSD'},inplace=True)"
   ]
  },
  {
   "cell_type": "code",
   "execution_count": null,
   "id": "5d32a99d",
   "metadata": {},
   "outputs": [],
   "source": [
    "df.head()"
   ]
  },
  {
   "cell_type": "code",
   "execution_count": null,
   "id": "9b0a3051",
   "metadata": {},
   "outputs": [],
   "source": [
    "df['SOAccount'].map({'Yes':True,'No':False})"
   ]
  },
  {
   "cell_type": "code",
   "execution_count": null,
   "id": "8b0c4130",
   "metadata": {},
   "outputs": [],
   "source": [
    "df['SOAccount']=df['SOAccount'].map({'Yes':True,'No':False})"
   ]
  },
  {
   "cell_type": "code",
   "execution_count": null,
   "id": "0e94951f",
   "metadata": {},
   "outputs": [],
   "source": [
    "df.head(5)"
   ]
  },
  {
   "cell_type": "code",
   "execution_count": null,
   "id": "f63dc0c6",
   "metadata": {},
   "outputs": [],
   "source": []
  },
  {
   "cell_type": "markdown",
   "id": "43be431c",
   "metadata": {},
   "source": [
    "# 6 th video Add/Remove Rows and Columns from DataFrame"
   ]
  },
  {
   "cell_type": "code",
   "execution_count": null,
   "id": "ae010267",
   "metadata": {},
   "outputs": [],
   "source": [
    "people = {\n",
    "    \"first\": [\"Corey\", 'Jane', 'John'], \n",
    "    \"last\": [\"Schafer\", 'Doe', 'Doe'], \n",
    "    \"email\": [\"CoreyMSchafer@gmail.com\", 'JaneDoe@email.com', 'JohnDoe@email.com']\n",
    "}\n"
   ]
  },
  {
   "cell_type": "code",
   "execution_count": null,
   "id": "12ff5be6",
   "metadata": {},
   "outputs": [],
   "source": [
    "df = pd.DataFrame(people)"
   ]
  },
  {
   "cell_type": "code",
   "execution_count": null,
   "id": "2f632eb9",
   "metadata": {},
   "outputs": [],
   "source": [
    "df"
   ]
  },
  {
   "cell_type": "code",
   "execution_count": null,
   "id": "11c68fe5",
   "metadata": {},
   "outputs": [],
   "source": [
    "df['first'] + ' ' + df['last']"
   ]
  },
  {
   "cell_type": "code",
   "execution_count": null,
   "id": "a304ecd7",
   "metadata": {},
   "outputs": [],
   "source": [
    "df['full name'] = df['first'] + ' ' + df['last']"
   ]
  },
  {
   "cell_type": "code",
   "execution_count": null,
   "id": "f1b1e560",
   "metadata": {},
   "outputs": [],
   "source": [
    "df"
   ]
  },
  {
   "cell_type": "code",
   "execution_count": null,
   "id": "1cc0d691",
   "metadata": {},
   "outputs": [],
   "source": [
    "df.drop(columns=['first','last'],inplace=True)"
   ]
  },
  {
   "cell_type": "code",
   "execution_count": null,
   "id": "6897d201",
   "metadata": {},
   "outputs": [],
   "source": [
    "df"
   ]
  },
  {
   "cell_type": "code",
   "execution_count": null,
   "id": "00153a9e",
   "metadata": {},
   "outputs": [],
   "source": [
    "df['full name'].str.split(' ')"
   ]
  },
  {
   "cell_type": "code",
   "execution_count": null,
   "id": "58b19ef4",
   "metadata": {},
   "outputs": [],
   "source": [
    "df['full name'].str.split(' ',expand=True)"
   ]
  },
  {
   "cell_type": "code",
   "execution_count": null,
   "id": "03747bc2",
   "metadata": {},
   "outputs": [],
   "source": [
    "df[['first','last']] = df['full name'].str.split(' ',expand=True)"
   ]
  },
  {
   "cell_type": "code",
   "execution_count": null,
   "id": "8c3e1f06",
   "metadata": {},
   "outputs": [],
   "source": [
    "df"
   ]
  },
  {
   "cell_type": "code",
   "execution_count": null,
   "id": "93fe0708",
   "metadata": {},
   "outputs": [],
   "source": [
    "# adding data to rows\n",
    "df.append({'first':'umesh'},ignore_index=True)"
   ]
  },
  {
   "cell_type": "code",
   "execution_count": null,
   "id": "a1d4666b",
   "metadata": {},
   "outputs": [],
   "source": [
    "people = {\n",
    "    \"first\": [\"Tony\", 'Steve'], \n",
    "    \"last\": [\"Sterk\", 'Rogers'], \n",
    "    \"email\": [\"IronMan@Avenger.com\", 'CaptionAvenger@email.com']\n",
    "}\n",
    "df2 = pd.DataFrame(people)"
   ]
  },
  {
   "cell_type": "code",
   "execution_count": null,
   "id": "516b67b4",
   "metadata": {},
   "outputs": [],
   "source": [
    "df2"
   ]
  },
  {
   "cell_type": "code",
   "execution_count": null,
   "id": "9cb2a2fa",
   "metadata": {},
   "outputs": [],
   "source": [
    "df.append(df2,ignore_index=True)"
   ]
  },
  {
   "cell_type": "code",
   "execution_count": null,
   "id": "fe42c0ac",
   "metadata": {},
   "outputs": [],
   "source": [
    "df = df.append(df2,ignore_index=True)"
   ]
  },
  {
   "cell_type": "code",
   "execution_count": null,
   "id": "1cb62e89",
   "metadata": {},
   "outputs": [],
   "source": [
    "df"
   ]
  },
  {
   "cell_type": "code",
   "execution_count": null,
   "id": "4965335b",
   "metadata": {},
   "outputs": [],
   "source": [
    "df.drop(index=4)"
   ]
  },
  {
   "cell_type": "code",
   "execution_count": null,
   "id": "ca88dd02",
   "metadata": {},
   "outputs": [],
   "source": [
    "df.drop(index=df[df['last']=='Doe'].index)"
   ]
  },
  {
   "cell_type": "code",
   "execution_count": null,
   "id": "1b4e2695",
   "metadata": {},
   "outputs": [],
   "source": [
    "filt = df['last'] == 'Doe'\n",
    "df.drop(index=df[filt].index)"
   ]
  },
  {
   "cell_type": "code",
   "execution_count": null,
   "id": "786dc0ef",
   "metadata": {},
   "outputs": [],
   "source": []
  },
  {
   "cell_type": "markdown",
   "id": "85b5a341",
   "metadata": {},
   "source": [
    "# 7 th video Sorting data "
   ]
  },
  {
   "cell_type": "code",
   "execution_count": null,
   "id": "108fbe8f",
   "metadata": {},
   "outputs": [],
   "source": [
    "people = {\n",
    "    \"first\": [\"Corey\", 'Jane', 'John','Adam'], \n",
    "    \"last\": [\"Schafer\", 'Doe', 'Doe','Doe'], \n",
    "    \"email\": [\"CoreyMSchafer@gmail.com\", 'JaneDoe@email.com', 'JohnDoe@email.com','Adam@gmail.com']\n",
    "}"
   ]
  },
  {
   "cell_type": "code",
   "execution_count": null,
   "id": "2ef1c25f",
   "metadata": {},
   "outputs": [],
   "source": [
    "df = pd.DataFrame(people)"
   ]
  },
  {
   "cell_type": "code",
   "execution_count": null,
   "id": "71da6533",
   "metadata": {},
   "outputs": [],
   "source": [
    "df"
   ]
  },
  {
   "cell_type": "code",
   "execution_count": null,
   "id": "3a9c7c79",
   "metadata": {},
   "outputs": [],
   "source": [
    "df.sort_values(by='last')"
   ]
  },
  {
   "cell_type": "code",
   "execution_count": null,
   "id": "725b6d57",
   "metadata": {},
   "outputs": [],
   "source": [
    "df.sort_values(by='last',ascending= False)"
   ]
  },
  {
   "cell_type": "code",
   "execution_count": null,
   "id": "cc8c638b",
   "metadata": {},
   "outputs": [],
   "source": [
    "df.sort_values(by=['last','first'],ascending= False)"
   ]
  },
  {
   "cell_type": "code",
   "execution_count": null,
   "id": "b7d8f3d6",
   "metadata": {},
   "outputs": [],
   "source": [
    "df.sort_values(by=['last','first'],ascending= [False, True],inplace=True)"
   ]
  },
  {
   "cell_type": "code",
   "execution_count": null,
   "id": "7bed9d69",
   "metadata": {},
   "outputs": [],
   "source": [
    "df"
   ]
  },
  {
   "cell_type": "code",
   "execution_count": null,
   "id": "757185dd",
   "metadata": {},
   "outputs": [],
   "source": [
    "df.sort_index()"
   ]
  },
  {
   "cell_type": "code",
   "execution_count": null,
   "id": "04bb152e",
   "metadata": {},
   "outputs": [],
   "source": [
    "df['last'].sort_values()"
   ]
  },
  {
   "cell_type": "code",
   "execution_count": null,
   "id": "94edb613",
   "metadata": {},
   "outputs": [],
   "source": [
    "df.sort_values(by=['Country','ConvertedCompYearly'], inplace=True)"
   ]
  },
  {
   "cell_type": "code",
   "execution_count": null,
   "id": "21264ae2",
   "metadata": {},
   "outputs": [],
   "source": [
    "df[['Country','ConvertedCompYearly']].head(50)"
   ]
  },
  {
   "cell_type": "code",
   "execution_count": null,
   "id": "55616209",
   "metadata": {},
   "outputs": [],
   "source": [
    "df.sort_values(by=['Country','ConvertedCompYearly'],ascending=[True,False], inplace=True)"
   ]
  },
  {
   "cell_type": "code",
   "execution_count": null,
   "id": "bd72ba01",
   "metadata": {},
   "outputs": [],
   "source": [
    "df[['Country','ConvertedCompYearly']].head(50)"
   ]
  },
  {
   "cell_type": "code",
   "execution_count": null,
   "id": "8f0d9c04",
   "metadata": {},
   "outputs": [],
   "source": [
    "df['ConvertedCompYearly'].nlargest(10)"
   ]
  },
  {
   "cell_type": "code",
   "execution_count": null,
   "id": "3e37c6f6",
   "metadata": {},
   "outputs": [],
   "source": [
    "df.nlargest(10, 'ConvertedCompYearly')"
   ]
  },
  {
   "cell_type": "code",
   "execution_count": null,
   "id": "410dbb7a",
   "metadata": {},
   "outputs": [],
   "source": [
    "df['ConvertedCompYearly'].nsmallest(10)"
   ]
  },
  {
   "cell_type": "code",
   "execution_count": null,
   "id": "e942dfab",
   "metadata": {},
   "outputs": [],
   "source": [
    "df.nsmallest(10, 'ConvertedCompYearly')"
   ]
  },
  {
   "cell_type": "code",
   "execution_count": null,
   "id": "2117a271",
   "metadata": {},
   "outputs": [],
   "source": []
  },
  {
   "cell_type": "markdown",
   "id": "e4e2466d",
   "metadata": {},
   "source": [
    "# 8 th video Grouping and Aggregating"
   ]
  },
  {
   "cell_type": "code",
   "execution_count": null,
   "id": "58e92195",
   "metadata": {},
   "outputs": [],
   "source": [
    "df['ConvertedCompYearly'].head(15)"
   ]
  },
  {
   "cell_type": "code",
   "execution_count": null,
   "id": "8991e8cd",
   "metadata": {},
   "outputs": [],
   "source": [
    "df['ConvertedCompYearly'].median()"
   ]
  },
  {
   "cell_type": "code",
   "execution_count": null,
   "id": "8e74f264",
   "metadata": {},
   "outputs": [],
   "source": [
    "df.median()"
   ]
  },
  {
   "cell_type": "code",
   "execution_count": null,
   "id": "f4aa836e",
   "metadata": {},
   "outputs": [],
   "source": [
    "df.describe()"
   ]
  },
  {
   "cell_type": "code",
   "execution_count": null,
   "id": "0ebeec3e",
   "metadata": {},
   "outputs": [],
   "source": [
    "df['ConvertedCompYearly'].count()"
   ]
  },
  {
   "cell_type": "code",
   "execution_count": null,
   "id": "4524cd2a",
   "metadata": {},
   "outputs": [],
   "source": [
    "df.head(5)"
   ]
  },
  {
   "cell_type": "code",
   "execution_count": null,
   "id": "c35ab55c",
   "metadata": {},
   "outputs": [],
   "source": [
    "df['SOAccount'].value_counts()"
   ]
  },
  {
   "cell_type": "code",
   "execution_count": null,
   "id": "543592e4",
   "metadata": {},
   "outputs": [],
   "source": [
    "df['OpSys']"
   ]
  },
  {
   "cell_type": "code",
   "execution_count": null,
   "id": "cffa3e15",
   "metadata": {},
   "outputs": [],
   "source": [
    "schema_df.loc['OpSys']"
   ]
  },
  {
   "cell_type": "code",
   "execution_count": null,
   "id": "024ab0a1",
   "metadata": {},
   "outputs": [],
   "source": [
    "df['OpSys'].value_counts()"
   ]
  },
  {
   "cell_type": "code",
   "execution_count": null,
   "id": "3770e327",
   "metadata": {},
   "outputs": [],
   "source": [
    "df['OpSys'].value_counts(normalize=True) # now broken down by percentage"
   ]
  },
  {
   "cell_type": "code",
   "execution_count": null,
   "id": "e53c7515",
   "metadata": {},
   "outputs": [],
   "source": [
    "df['Country'].value_counts()"
   ]
  },
  {
   "cell_type": "code",
   "execution_count": null,
   "id": "c0a16b25",
   "metadata": {},
   "outputs": [],
   "source": [
    "country_grp = df.groupby(['Country'])"
   ]
  },
  {
   "cell_type": "code",
   "execution_count": null,
   "id": "882907e0",
   "metadata": {},
   "outputs": [],
   "source": [
    "country_grp.get_group('India')"
   ]
  },
  {
   "cell_type": "code",
   "execution_count": null,
   "id": "e59c5d19",
   "metadata": {},
   "outputs": [],
   "source": [
    "filt = df['Country'] == 'United States of America'\n",
    "df.loc[filt]"
   ]
  },
  {
   "cell_type": "code",
   "execution_count": null,
   "id": "4beee3c5",
   "metadata": {},
   "outputs": [],
   "source": [
    "filt = df['Country'] == 'United States of America'\n",
    "df.loc[filt]['OpSys'].value_counts()"
   ]
  },
  {
   "cell_type": "code",
   "execution_count": null,
   "id": "75338e65",
   "metadata": {},
   "outputs": [],
   "source": [
    "filt = df['Country'] == 'India'\n",
    "df.loc[filt]['OpSys'].value_counts()"
   ]
  },
  {
   "cell_type": "code",
   "execution_count": null,
   "id": "5ff87935",
   "metadata": {},
   "outputs": [],
   "source": [
    "country_grp['OpSys'].value_counts().head(50)"
   ]
  },
  {
   "cell_type": "code",
   "execution_count": null,
   "id": "b29ddd59",
   "metadata": {},
   "outputs": [],
   "source": [
    "country_grp['OpSys'].value_counts().loc['Germany']"
   ]
  },
  {
   "cell_type": "code",
   "execution_count": null,
   "id": "78fb76ab",
   "metadata": {},
   "outputs": [],
   "source": [
    "country_grp['ConvertedCompYearly'].median().loc['Germany']"
   ]
  },
  {
   "cell_type": "code",
   "execution_count": null,
   "id": "0015b8fd",
   "metadata": {},
   "outputs": [],
   "source": [
    "country_grp['ConvertedCompYearly'].agg(['median','mean'])"
   ]
  },
  {
   "cell_type": "code",
   "execution_count": null,
   "id": "a7060795",
   "metadata": {},
   "outputs": [],
   "source": [
    "country_grp['ConvertedCompYearly'].agg(['median','mean']).loc['Canada']"
   ]
  },
  {
   "cell_type": "code",
   "execution_count": null,
   "id": "a72767b6",
   "metadata": {},
   "outputs": [],
   "source": [
    "filt = df['Country'] == 'India'\n",
    "df.loc[filt]['LanguageHaveWorkedWith'].str.contains('Python').sum()"
   ]
  },
  {
   "cell_type": "code",
   "execution_count": null,
   "id": "f9fe25e4",
   "metadata": {},
   "outputs": [],
   "source": [
    "country_grp['LanguageHaveWorkedWith'].apply(lambda x : x.str.contains('Python').sum())"
   ]
  },
  {
   "cell_type": "markdown",
   "id": "988500fe",
   "metadata": {},
   "source": [
    "# Q. what % of people from each country know python ?"
   ]
  },
  {
   "cell_type": "code",
   "execution_count": null,
   "id": "2a55c716",
   "metadata": {},
   "outputs": [],
   "source": [
    "country_respondant = df['Country'].value_counts()"
   ]
  },
  {
   "cell_type": "code",
   "execution_count": null,
   "id": "8eae4e12",
   "metadata": {},
   "outputs": [],
   "source": [
    "country_respondant"
   ]
  },
  {
   "cell_type": "code",
   "execution_count": null,
   "id": "979bd1c1",
   "metadata": {},
   "outputs": [],
   "source": [
    "country_use_python = country_grp['LanguageHaveWorkedWith'].apply(lambda x : x.str.contains('Python').sum())\n",
    "country_use_python"
   ]
  },
  {
   "cell_type": "code",
   "execution_count": null,
   "id": "d0b4d026",
   "metadata": {},
   "outputs": [],
   "source": [
    "python_df = pd.concat([country_respondant,country_use_python],axis='columns',sort=False)\n",
    "python_df"
   ]
  },
  {
   "cell_type": "code",
   "execution_count": null,
   "id": "7e28dae8",
   "metadata": {},
   "outputs": [],
   "source": [
    "python_df.rename(columns={'Country':'NumRespondents','LanguageHaveWorkedWith':'NumKnowPython'},inplace=True)"
   ]
  },
  {
   "cell_type": "code",
   "execution_count": null,
   "id": "74a56df5",
   "metadata": {},
   "outputs": [],
   "source": [
    "python_df"
   ]
  },
  {
   "cell_type": "code",
   "execution_count": null,
   "id": "44481eb8",
   "metadata": {},
   "outputs": [],
   "source": [
    "# python_df['PctKnowPython'] = (part/whole)*100\n",
    "python_df['PctKnowPython'] = (python_df['NumKnowPython']/python_df['NumRespondents']) * 100\n",
    "python_df"
   ]
  },
  {
   "cell_type": "code",
   "execution_count": null,
   "id": "60ef8741",
   "metadata": {},
   "outputs": [],
   "source": [
    "python_df.sort_values(by='PctKnowPython',ascending=False,inplace=True)"
   ]
  },
  {
   "cell_type": "code",
   "execution_count": null,
   "id": "9b8ccb1d",
   "metadata": {},
   "outputs": [],
   "source": [
    "python_df.head(50)"
   ]
  },
  {
   "cell_type": "code",
   "execution_count": null,
   "id": "b46881f3",
   "metadata": {},
   "outputs": [],
   "source": [
    "python_df.loc['Japan']"
   ]
  },
  {
   "cell_type": "code",
   "execution_count": null,
   "id": "c1a55832",
   "metadata": {},
   "outputs": [],
   "source": []
  },
  {
   "cell_type": "markdown",
   "id": "4214801a",
   "metadata": {},
   "source": [
    "# 9 th video Handling missing value and casting Datatypes"
   ]
  },
  {
   "cell_type": "code",
   "execution_count": null,
   "id": "ce10fa48",
   "metadata": {},
   "outputs": [],
   "source": [
    "import numpy as np\n",
    "people = {\n",
    "    'first': ['Corey', 'Jane', 'John', 'Chris', np.nan, None, 'NA'], \n",
    "    'last': ['Schafer', 'Doe', 'Doe', 'Schafer', np.nan, np.nan, 'Missing'], \n",
    "    'email': ['CoreyMSchafer@gmail.com', 'JaneDoe@email.com', 'JohnDoe@email.com', None, np.nan, 'Anonymous@email.com', 'NA'],\n",
    "    'age': ['33', '55', '63', '36', None, None, 'Missing']\n",
    "}"
   ]
  },
  {
   "cell_type": "code",
   "execution_count": null,
   "id": "e282475f",
   "metadata": {},
   "outputs": [],
   "source": [
    "df = pd.DataFrame(people)"
   ]
  },
  {
   "cell_type": "code",
   "execution_count": null,
   "id": "a758a67d",
   "metadata": {},
   "outputs": [],
   "source": [
    "df"
   ]
  },
  {
   "cell_type": "code",
   "execution_count": null,
   "id": "046724c1",
   "metadata": {},
   "outputs": [],
   "source": [
    "df.dropna()"
   ]
  },
  {
   "cell_type": "code",
   "execution_count": null,
   "id": "1ffaa4ec",
   "metadata": {},
   "outputs": [],
   "source": [
    "df.dropna(axis='index',how='any')"
   ]
  },
  {
   "cell_type": "code",
   "execution_count": null,
   "id": "19fe2d68",
   "metadata": {},
   "outputs": [],
   "source": [
    "df.dropna(axis='index',how='all')"
   ]
  },
  {
   "cell_type": "code",
   "execution_count": null,
   "id": "6c4914e5",
   "metadata": {},
   "outputs": [],
   "source": [
    "df.dropna(axis='columns',how='all')"
   ]
  },
  {
   "cell_type": "code",
   "execution_count": null,
   "id": "0193f3f7",
   "metadata": {},
   "outputs": [],
   "source": [
    "df.dropna(axis='columns',how='any')"
   ]
  },
  {
   "cell_type": "code",
   "execution_count": null,
   "id": "721f8fe2",
   "metadata": {},
   "outputs": [],
   "source": [
    "df.dropna(axis='index',how='any',subset=['email'])"
   ]
  },
  {
   "cell_type": "code",
   "execution_count": null,
   "id": "cf9577f5",
   "metadata": {},
   "outputs": [],
   "source": [
    "df.dropna(axis='index',how='all',subset=['email'])"
   ]
  },
  {
   "cell_type": "code",
   "execution_count": null,
   "id": "055cab32",
   "metadata": {},
   "outputs": [],
   "source": [
    "df.dropna(axis='index',how='all',subset=['last','email'])"
   ]
  },
  {
   "cell_type": "code",
   "execution_count": null,
   "id": "776ab47f",
   "metadata": {},
   "outputs": [],
   "source": [
    "df = pd.DataFrame(people)\n",
    "df.replace('NA',np.nan, inplace=True)\n",
    "df.replace('Missing',np.nan, inplace=True)\n"
   ]
  },
  {
   "cell_type": "code",
   "execution_count": null,
   "id": "2ce677ae",
   "metadata": {},
   "outputs": [],
   "source": [
    "df"
   ]
  },
  {
   "cell_type": "code",
   "execution_count": null,
   "id": "f89d1ab9",
   "metadata": {},
   "outputs": [],
   "source": [
    "df.dropna()"
   ]
  },
  {
   "cell_type": "code",
   "execution_count": null,
   "id": "1a71fce0",
   "metadata": {},
   "outputs": [],
   "source": [
    "df.dropna(axis='index',how='any')"
   ]
  },
  {
   "cell_type": "code",
   "execution_count": null,
   "id": "989d2435",
   "metadata": {},
   "outputs": [],
   "source": [
    "df.isna()"
   ]
  },
  {
   "cell_type": "code",
   "execution_count": null,
   "id": "f1962722",
   "metadata": {},
   "outputs": [],
   "source": [
    "df.fillna('MISSING')"
   ]
  },
  {
   "cell_type": "code",
   "execution_count": null,
   "id": "911938ca",
   "metadata": {},
   "outputs": [],
   "source": [
    "df.fillna(0)"
   ]
  },
  {
   "cell_type": "markdown",
   "id": "d3ef48bb",
   "metadata": {},
   "source": [
    "# casting datatype "
   ]
  },
  {
   "cell_type": "code",
   "execution_count": null,
   "id": "900ba51e",
   "metadata": {},
   "outputs": [],
   "source": [
    "df.dtypes"
   ]
  },
  {
   "cell_type": "code",
   "execution_count": null,
   "id": "9865bf63",
   "metadata": {},
   "outputs": [],
   "source": [
    "df['age'].mean()"
   ]
  },
  {
   "cell_type": "code",
   "execution_count": null,
   "id": "63c77321",
   "metadata": {},
   "outputs": [],
   "source": [
    "type(np.nan)"
   ]
  },
  {
   "cell_type": "code",
   "execution_count": null,
   "id": "01f484d3",
   "metadata": {},
   "outputs": [],
   "source": [
    "df['age'] = df['age'].astype(float)"
   ]
  },
  {
   "cell_type": "code",
   "execution_count": null,
   "id": "cb01911b",
   "metadata": {},
   "outputs": [],
   "source": [
    "df.dtypes"
   ]
  },
  {
   "cell_type": "code",
   "execution_count": null,
   "id": "9e9b4f9b",
   "metadata": {},
   "outputs": [],
   "source": [
    "df['age'].mean()"
   ]
  },
  {
   "cell_type": "code",
   "execution_count": null,
   "id": "fd245839",
   "metadata": {},
   "outputs": [],
   "source": []
  },
  {
   "cell_type": "code",
   "execution_count": null,
   "id": "c6831be3",
   "metadata": {},
   "outputs": [],
   "source": [
    "na_val = ['NA','Missing']\n",
    "df = pd.read_csv('survey_results_public.csv', index_col='ResponseId',na_values=na_val)\n",
    "schema_df = pd.read_csv('survey_results_schema.csv',index_col= 'qname')"
   ]
  },
  {
   "cell_type": "code",
   "execution_count": null,
   "id": "c983ffc9",
   "metadata": {},
   "outputs": [],
   "source": [
    "df['YearsCode'].head(10)"
   ]
  },
  {
   "cell_type": "code",
   "execution_count": null,
   "id": "106afdbf",
   "metadata": {},
   "outputs": [],
   "source": [
    "df['YearsCode'].unique()"
   ]
  },
  {
   "cell_type": "code",
   "execution_count": null,
   "id": "2c25415b",
   "metadata": {},
   "outputs": [],
   "source": [
    "df['YearsCode'].replace('Less than 1 year',0,inplace=True)"
   ]
  },
  {
   "cell_type": "code",
   "execution_count": null,
   "id": "c8833ae2",
   "metadata": {},
   "outputs": [],
   "source": [
    "df['YearsCode'].replace('More than 50 years',51,inplace=True)"
   ]
  },
  {
   "cell_type": "code",
   "execution_count": null,
   "id": "8fccca63",
   "metadata": {},
   "outputs": [],
   "source": [
    "df['YearsCode'].unique()"
   ]
  },
  {
   "cell_type": "code",
   "execution_count": null,
   "id": "e598eb7b",
   "metadata": {},
   "outputs": [],
   "source": [
    "df['YearsCode'] = df['YearsCode'].astype(float)"
   ]
  },
  {
   "cell_type": "code",
   "execution_count": null,
   "id": "3043dac4",
   "metadata": {},
   "outputs": [],
   "source": [
    "df['YearsCode'].mean()"
   ]
  },
  {
   "cell_type": "code",
   "execution_count": null,
   "id": "5dc59922",
   "metadata": {},
   "outputs": [],
   "source": [
    "df['YearsCode'].median()"
   ]
  },
  {
   "cell_type": "code",
   "execution_count": null,
   "id": "bc32527e",
   "metadata": {},
   "outputs": [],
   "source": [
    "df['YearsCode'].mode()"
   ]
  },
  {
   "cell_type": "code",
   "execution_count": null,
   "id": "b544f04c",
   "metadata": {},
   "outputs": [],
   "source": []
  },
  {
   "cell_type": "markdown",
   "id": "ba8566ed",
   "metadata": {},
   "source": [
    "# 10 th video Working with Dates and Time Series Data"
   ]
  },
  {
   "cell_type": "code",
   "execution_count": null,
   "id": "3095e7b5",
   "metadata": {},
   "outputs": [],
   "source": [
    "df = pd.read_csv(\"https://raw.githubusercontent.com/CoreyMSchafer/code_snippets/master/Python/Pandas/10-Datetime-Timeseries/ETH_1h.csv\")  "
   ]
  },
  {
   "cell_type": "code",
   "execution_count": null,
   "id": "1a7ad0a2",
   "metadata": {},
   "outputs": [],
   "source": [
    "df.head()"
   ]
  },
  {
   "cell_type": "code",
   "execution_count": null,
   "id": "193b3e8d",
   "metadata": {},
   "outputs": [],
   "source": [
    "df.shape"
   ]
  },
  {
   "cell_type": "code",
   "execution_count": null,
   "id": "447276d6",
   "metadata": {},
   "outputs": [],
   "source": [
    "df.loc[0,'Date']"
   ]
  },
  {
   "cell_type": "code",
   "execution_count": null,
   "id": "43cb360b",
   "metadata": {},
   "outputs": [],
   "source": [
    "df.loc[0,'Date'].day_name()"
   ]
  },
  {
   "cell_type": "code",
   "execution_count": null,
   "id": "27f8824e",
   "metadata": {},
   "outputs": [],
   "source": [
    "df['Date'] = pd.to_datetime(df['Date'],format='%Y-%m-%d %I-%p')"
   ]
  },
  {
   "cell_type": "code",
   "execution_count": null,
   "id": "e22485fe",
   "metadata": {},
   "outputs": [],
   "source": [
    "df['Date']"
   ]
  },
  {
   "cell_type": "code",
   "execution_count": null,
   "id": "6d922945",
   "metadata": {},
   "outputs": [],
   "source": [
    "df.loc[0,'Date'].day_name()"
   ]
  },
  {
   "cell_type": "code",
   "execution_count": null,
   "id": "807ef565",
   "metadata": {},
   "outputs": [],
   "source": [
    "d_parser = lambda x: pd.datetime.strptime(x,'%Y-%m-%d %I-%p')\n",
    "df = pd.read_csv(\"https://raw.githubusercontent.com/CoreyMSchafer/code_snippets/master/Python/Pandas/10-Datetime-Timeseries/ETH_1h.csv\", parse_dates=['Date'], date_parser=d_parser)    "
   ]
  },
  {
   "cell_type": "code",
   "execution_count": null,
   "id": "492a86ee",
   "metadata": {},
   "outputs": [],
   "source": [
    "df['Date'].dt.day_name()"
   ]
  },
  {
   "cell_type": "code",
   "execution_count": null,
   "id": "8a775b76",
   "metadata": {},
   "outputs": [],
   "source": [
    "df['dayofweek'] = df['Date'].dt.day_name()"
   ]
  },
  {
   "cell_type": "code",
   "execution_count": null,
   "id": "500f26f9",
   "metadata": {},
   "outputs": [],
   "source": [
    "df"
   ]
  },
  {
   "cell_type": "code",
   "execution_count": null,
   "id": "7bb64fa9",
   "metadata": {},
   "outputs": [],
   "source": [
    "df['Date'].min()"
   ]
  },
  {
   "cell_type": "code",
   "execution_count": null,
   "id": "32ea7f16",
   "metadata": {},
   "outputs": [],
   "source": [
    "df['Date'].max()"
   ]
  },
  {
   "cell_type": "code",
   "execution_count": null,
   "id": "bd8b4142",
   "metadata": {},
   "outputs": [],
   "source": [
    "df['Date'].max() - df['Date'].min()"
   ]
  },
  {
   "cell_type": "code",
   "execution_count": null,
   "id": "b8e76069",
   "metadata": {},
   "outputs": [],
   "source": [
    "filt = (df['Date'] >= '2020')\n",
    "df.loc[filt]"
   ]
  },
  {
   "cell_type": "code",
   "execution_count": null,
   "id": "aa8b1a98",
   "metadata": {},
   "outputs": [],
   "source": [
    "filt = (df['Date'] >= '2019') & (df['Date'] < '2020')\n",
    "df.loc[filt]"
   ]
  },
  {
   "cell_type": "code",
   "execution_count": null,
   "id": "d3896696",
   "metadata": {},
   "outputs": [],
   "source": [
    "filt = (df['Date'] >= pd.to_datetime('2019-01-01')) & (df['Date'] < pd.to_datetime('2020-01-01'))\n",
    "df.loc[filt]"
   ]
  },
  {
   "cell_type": "code",
   "execution_count": null,
   "id": "018e5095",
   "metadata": {},
   "outputs": [],
   "source": [
    "df.set_index('Date',inplace=True)"
   ]
  },
  {
   "cell_type": "code",
   "execution_count": null,
   "id": "279318c3",
   "metadata": {},
   "outputs": [],
   "source": [
    "df.loc['2019']"
   ]
  },
  {
   "cell_type": "code",
   "execution_count": null,
   "id": "c7ec9881",
   "metadata": {},
   "outputs": [],
   "source": [
    "df['2020-01':'2020-02']"
   ]
  },
  {
   "cell_type": "code",
   "execution_count": null,
   "id": "f7779238",
   "metadata": {},
   "outputs": [],
   "source": [
    "df['2020-01':'2020-02']['Close']"
   ]
  },
  {
   "cell_type": "code",
   "execution_count": null,
   "id": "3c55ef16",
   "metadata": {},
   "outputs": [],
   "source": [
    "df['2020-01':'2020-02']['Close'].mean()"
   ]
  },
  {
   "cell_type": "code",
   "execution_count": null,
   "id": "da489c75",
   "metadata": {},
   "outputs": [],
   "source": [
    "df['2020-01':'2020-02'].head(24)"
   ]
  },
  {
   "cell_type": "code",
   "execution_count": null,
   "id": "1a5bb9fe",
   "metadata": {},
   "outputs": [],
   "source": [
    "df.loc['2020-01-01']['High'].max()"
   ]
  },
  {
   "cell_type": "code",
   "execution_count": null,
   "id": "de9e6530",
   "metadata": {},
   "outputs": [],
   "source": [
    "highs = df['High'].resample('D').max()\n",
    "highs"
   ]
  },
  {
   "cell_type": "code",
   "execution_count": null,
   "id": "17fe2c9b",
   "metadata": {},
   "outputs": [],
   "source": [
    "highs = df['High'].resample('D').max()\n",
    "highs.loc['2020-01-01']"
   ]
  },
  {
   "cell_type": "code",
   "execution_count": null,
   "id": "33d2127d",
   "metadata": {},
   "outputs": [],
   "source": [
    "%matplotlib inline"
   ]
  },
  {
   "cell_type": "code",
   "execution_count": null,
   "id": "d4480b3f",
   "metadata": {},
   "outputs": [],
   "source": [
    "highs.plot()"
   ]
  },
  {
   "cell_type": "code",
   "execution_count": null,
   "id": "7bbd7c5d",
   "metadata": {},
   "outputs": [],
   "source": [
    "df.resample('W').mean()"
   ]
  },
  {
   "cell_type": "code",
   "execution_count": null,
   "id": "ed15f755",
   "metadata": {},
   "outputs": [],
   "source": [
    "df.resample('W').agg({'Close':'mean','High':'max','Low':'min','Volume':'sum'})"
   ]
  },
  {
   "cell_type": "code",
   "execution_count": null,
   "id": "cb571d54",
   "metadata": {},
   "outputs": [],
   "source": []
  },
  {
   "cell_type": "markdown",
   "id": "51887371",
   "metadata": {},
   "source": [
    "# 11 th video Reading/Writing Data to Different Sources"
   ]
  },
  {
   "cell_type": "code",
   "execution_count": 39,
   "id": "1376abbe",
   "metadata": {},
   "outputs": [],
   "source": [
    "df = pd.read_csv('survey_results_public.csv', index_col='ResponseId')\n",
    "schema_df = pd.read_csv('survey_results_schema.csv',index_col= 'qname')"
   ]
  },
  {
   "cell_type": "code",
   "execution_count": 40,
   "id": "aeb7234d",
   "metadata": {},
   "outputs": [
    {
     "data": {
      "text/html": [
       "<div>\n",
       "<style scoped>\n",
       "    .dataframe tbody tr th:only-of-type {\n",
       "        vertical-align: middle;\n",
       "    }\n",
       "\n",
       "    .dataframe tbody tr th {\n",
       "        vertical-align: top;\n",
       "    }\n",
       "\n",
       "    .dataframe thead th {\n",
       "        text-align: right;\n",
       "    }\n",
       "</style>\n",
       "<table border=\"1\" class=\"dataframe\">\n",
       "  <thead>\n",
       "    <tr style=\"text-align: right;\">\n",
       "      <th></th>\n",
       "      <th>MainBranch</th>\n",
       "      <th>Employment</th>\n",
       "      <th>Country</th>\n",
       "      <th>US_State</th>\n",
       "      <th>UK_Country</th>\n",
       "      <th>EdLevel</th>\n",
       "      <th>Age1stCode</th>\n",
       "      <th>LearnCode</th>\n",
       "      <th>YearsCode</th>\n",
       "      <th>YearsCodePro</th>\n",
       "      <th>DevType</th>\n",
       "      <th>OrgSize</th>\n",
       "      <th>Currency</th>\n",
       "      <th>CompTotal</th>\n",
       "      <th>CompFreq</th>\n",
       "      <th>LanguageHaveWorkedWith</th>\n",
       "      <th>LanguageWantToWorkWith</th>\n",
       "      <th>DatabaseHaveWorkedWith</th>\n",
       "      <th>DatabaseWantToWorkWith</th>\n",
       "      <th>PlatformHaveWorkedWith</th>\n",
       "      <th>PlatformWantToWorkWith</th>\n",
       "      <th>WebframeHaveWorkedWith</th>\n",
       "      <th>WebframeWantToWorkWith</th>\n",
       "      <th>MiscTechHaveWorkedWith</th>\n",
       "      <th>MiscTechWantToWorkWith</th>\n",
       "      <th>ToolsTechHaveWorkedWith</th>\n",
       "      <th>ToolsTechWantToWorkWith</th>\n",
       "      <th>NEWCollabToolsHaveWorkedWith</th>\n",
       "      <th>NEWCollabToolsWantToWorkWith</th>\n",
       "      <th>OpSys</th>\n",
       "      <th>NEWStuck</th>\n",
       "      <th>NEWSOSites</th>\n",
       "      <th>SOVisitFreq</th>\n",
       "      <th>SOAccount</th>\n",
       "      <th>SOPartFreq</th>\n",
       "      <th>SOComm</th>\n",
       "      <th>NEWOtherComms</th>\n",
       "      <th>Age</th>\n",
       "      <th>Gender</th>\n",
       "      <th>Trans</th>\n",
       "      <th>Sexuality</th>\n",
       "      <th>Ethnicity</th>\n",
       "      <th>Accessibility</th>\n",
       "      <th>MentalHealth</th>\n",
       "      <th>SurveyLength</th>\n",
       "      <th>SurveyEase</th>\n",
       "      <th>ConvertedCompYearly</th>\n",
       "    </tr>\n",
       "    <tr>\n",
       "      <th>ResponseId</th>\n",
       "      <th></th>\n",
       "      <th></th>\n",
       "      <th></th>\n",
       "      <th></th>\n",
       "      <th></th>\n",
       "      <th></th>\n",
       "      <th></th>\n",
       "      <th></th>\n",
       "      <th></th>\n",
       "      <th></th>\n",
       "      <th></th>\n",
       "      <th></th>\n",
       "      <th></th>\n",
       "      <th></th>\n",
       "      <th></th>\n",
       "      <th></th>\n",
       "      <th></th>\n",
       "      <th></th>\n",
       "      <th></th>\n",
       "      <th></th>\n",
       "      <th></th>\n",
       "      <th></th>\n",
       "      <th></th>\n",
       "      <th></th>\n",
       "      <th></th>\n",
       "      <th></th>\n",
       "      <th></th>\n",
       "      <th></th>\n",
       "      <th></th>\n",
       "      <th></th>\n",
       "      <th></th>\n",
       "      <th></th>\n",
       "      <th></th>\n",
       "      <th></th>\n",
       "      <th></th>\n",
       "      <th></th>\n",
       "      <th></th>\n",
       "      <th></th>\n",
       "      <th></th>\n",
       "      <th></th>\n",
       "      <th></th>\n",
       "      <th></th>\n",
       "      <th></th>\n",
       "      <th></th>\n",
       "      <th></th>\n",
       "      <th></th>\n",
       "      <th></th>\n",
       "    </tr>\n",
       "  </thead>\n",
       "  <tbody>\n",
       "    <tr>\n",
       "      <th>9</th>\n",
       "      <td>I am a developer by profession</td>\n",
       "      <td>Employed part-time</td>\n",
       "      <td>India</td>\n",
       "      <td>NaN</td>\n",
       "      <td>NaN</td>\n",
       "      <td>Bachelor’s degree (B.A., B.S., B.Eng., etc.)</td>\n",
       "      <td>18 - 24 years</td>\n",
       "      <td>Coding Bootcamp</td>\n",
       "      <td>6</td>\n",
       "      <td>4</td>\n",
       "      <td>Developer, front-end</td>\n",
       "      <td>10,000 or more employees</td>\n",
       "      <td>INR\\tIndian rupee</td>\n",
       "      <td>NaN</td>\n",
       "      <td>Monthly</td>\n",
       "      <td>HTML/CSS;JavaScript</td>\n",
       "      <td>HTML/CSS;JavaScript</td>\n",
       "      <td>PostgreSQL</td>\n",
       "      <td>PostgreSQL</td>\n",
       "      <td>AWS</td>\n",
       "      <td>NaN</td>\n",
       "      <td>Django;FastAPI</td>\n",
       "      <td>Django;FastAPI</td>\n",
       "      <td>NaN</td>\n",
       "      <td>NaN</td>\n",
       "      <td>Docker;Git</td>\n",
       "      <td>Docker;Git;Kubernetes</td>\n",
       "      <td>PyCharm;Sublime Text</td>\n",
       "      <td>PyCharm;Sublime Text</td>\n",
       "      <td>Windows</td>\n",
       "      <td>Visit Stack Overflow;Google it;Panic</td>\n",
       "      <td>Stack Overflow;Stack Exchange</td>\n",
       "      <td>A few times per week</td>\n",
       "      <td>Yes</td>\n",
       "      <td>Less than once per month or monthly</td>\n",
       "      <td>Yes, definitely</td>\n",
       "      <td>No</td>\n",
       "      <td>25-34 years old</td>\n",
       "      <td>Man</td>\n",
       "      <td>No</td>\n",
       "      <td>NaN</td>\n",
       "      <td>South Asian</td>\n",
       "      <td>NaN</td>\n",
       "      <td>I have a concentration and/or memory disorder ...</td>\n",
       "      <td>Appropriate in length</td>\n",
       "      <td>Easy</td>\n",
       "      <td>NaN</td>\n",
       "    </tr>\n",
       "    <tr>\n",
       "      <th>23</th>\n",
       "      <td>I am a student who is learning to code</td>\n",
       "      <td>Student, full-time</td>\n",
       "      <td>India</td>\n",
       "      <td>NaN</td>\n",
       "      <td>NaN</td>\n",
       "      <td>Some college/university study without earning ...</td>\n",
       "      <td>5 - 10 years</td>\n",
       "      <td>School;Friend or family member</td>\n",
       "      <td>7</td>\n",
       "      <td>NaN</td>\n",
       "      <td>NaN</td>\n",
       "      <td>NaN</td>\n",
       "      <td>NaN</td>\n",
       "      <td>NaN</td>\n",
       "      <td>NaN</td>\n",
       "      <td>C#;HTML/CSS;Python</td>\n",
       "      <td>Java;Kotlin;Python</td>\n",
       "      <td>NaN</td>\n",
       "      <td>NaN</td>\n",
       "      <td>NaN</td>\n",
       "      <td>NaN</td>\n",
       "      <td>NaN</td>\n",
       "      <td>NaN</td>\n",
       "      <td>NaN</td>\n",
       "      <td>NaN</td>\n",
       "      <td>Unity 3D</td>\n",
       "      <td>NaN</td>\n",
       "      <td>Android Studio</td>\n",
       "      <td>Android Studio</td>\n",
       "      <td>Windows</td>\n",
       "      <td>Visit Stack Overflow;Google it;Watch help / tu...</td>\n",
       "      <td>Stack Overflow;Stack Exchange</td>\n",
       "      <td>Multiple times per day</td>\n",
       "      <td>Yes</td>\n",
       "      <td>Multiple times per day</td>\n",
       "      <td>Yes, definitely</td>\n",
       "      <td>No</td>\n",
       "      <td>Under 18 years old</td>\n",
       "      <td>Man</td>\n",
       "      <td>No</td>\n",
       "      <td>Prefer not to say</td>\n",
       "      <td>Prefer not to say</td>\n",
       "      <td>None of the above</td>\n",
       "      <td>None of the above</td>\n",
       "      <td>Appropriate in length</td>\n",
       "      <td>Easy</td>\n",
       "      <td>NaN</td>\n",
       "    </tr>\n",
       "    <tr>\n",
       "      <th>40</th>\n",
       "      <td>I am a student who is learning to code</td>\n",
       "      <td>Student, part-time</td>\n",
       "      <td>India</td>\n",
       "      <td>NaN</td>\n",
       "      <td>NaN</td>\n",
       "      <td>Bachelor’s degree (B.A., B.S., B.Eng., etc.)</td>\n",
       "      <td>11 - 17 years</td>\n",
       "      <td>School</td>\n",
       "      <td>3</td>\n",
       "      <td>NaN</td>\n",
       "      <td>NaN</td>\n",
       "      <td>NaN</td>\n",
       "      <td>NaN</td>\n",
       "      <td>NaN</td>\n",
       "      <td>NaN</td>\n",
       "      <td>C;C#;C++;HTML/CSS;JavaScript;Node.js;Python</td>\n",
       "      <td>NaN</td>\n",
       "      <td>MongoDB</td>\n",
       "      <td>NaN</td>\n",
       "      <td>Heroku</td>\n",
       "      <td>NaN</td>\n",
       "      <td>Express;jQuery;React.js</td>\n",
       "      <td>NaN</td>\n",
       "      <td>Keras;NumPy;TensorFlow</td>\n",
       "      <td>NaN</td>\n",
       "      <td>Flow;Unity 3D</td>\n",
       "      <td>NaN</td>\n",
       "      <td>IPython/Jupyter;Sublime Text;Visual Studio Code</td>\n",
       "      <td>NaN</td>\n",
       "      <td>Linux-based</td>\n",
       "      <td>Visit Stack Overflow;Go for a walk or other ph...</td>\n",
       "      <td>Stack Overflow;Stack Exchange</td>\n",
       "      <td>Multiple times per day</td>\n",
       "      <td>Yes</td>\n",
       "      <td>A few times per month or weekly</td>\n",
       "      <td>Yes, somewhat</td>\n",
       "      <td>Yes</td>\n",
       "      <td>18-24 years old</td>\n",
       "      <td>Woman</td>\n",
       "      <td>No</td>\n",
       "      <td>Straight / Heterosexual</td>\n",
       "      <td>White or of European descent</td>\n",
       "      <td>None of the above</td>\n",
       "      <td>I have a concentration and/or memory disorder ...</td>\n",
       "      <td>Appropriate in length</td>\n",
       "      <td>Easy</td>\n",
       "      <td>NaN</td>\n",
       "    </tr>\n",
       "    <tr>\n",
       "      <th>50</th>\n",
       "      <td>I am a student who is learning to code</td>\n",
       "      <td>Student, full-time</td>\n",
       "      <td>India</td>\n",
       "      <td>NaN</td>\n",
       "      <td>NaN</td>\n",
       "      <td>Some college/university study without earning ...</td>\n",
       "      <td>11 - 17 years</td>\n",
       "      <td>Coding Bootcamp;Other online resources (ex: vi...</td>\n",
       "      <td>NaN</td>\n",
       "      <td>NaN</td>\n",
       "      <td>NaN</td>\n",
       "      <td>NaN</td>\n",
       "      <td>NaN</td>\n",
       "      <td>NaN</td>\n",
       "      <td>NaN</td>\n",
       "      <td>C;HTML/CSS;Java;JavaScript;Kotlin;Node.js;Pyth...</td>\n",
       "      <td>Dart;Elixir;Go;SQL</td>\n",
       "      <td>NaN</td>\n",
       "      <td>NaN</td>\n",
       "      <td>Heroku</td>\n",
       "      <td>NaN</td>\n",
       "      <td>Django;Express;React.js</td>\n",
       "      <td>Angular</td>\n",
       "      <td>NaN</td>\n",
       "      <td>NaN</td>\n",
       "      <td>Git;Yarn</td>\n",
       "      <td>NaN</td>\n",
       "      <td>Android Studio;Atom;Notepad++;Sublime Text;Vis...</td>\n",
       "      <td>NaN</td>\n",
       "      <td>Windows</td>\n",
       "      <td>Visit Stack Overflow;Go for a walk or other ph...</td>\n",
       "      <td>Stack Overflow</td>\n",
       "      <td>Multiple times per day</td>\n",
       "      <td>Yes</td>\n",
       "      <td>A few times per week</td>\n",
       "      <td>Yes, definitely</td>\n",
       "      <td>No</td>\n",
       "      <td>18-24 years old</td>\n",
       "      <td>Man</td>\n",
       "      <td>No</td>\n",
       "      <td>Straight / Heterosexual</td>\n",
       "      <td>South Asian</td>\n",
       "      <td>None of the above</td>\n",
       "      <td>None of the above</td>\n",
       "      <td>Appropriate in length</td>\n",
       "      <td>Easy</td>\n",
       "      <td>NaN</td>\n",
       "    </tr>\n",
       "    <tr>\n",
       "      <th>53</th>\n",
       "      <td>I am a developer by profession</td>\n",
       "      <td>Employed full-time</td>\n",
       "      <td>India</td>\n",
       "      <td>NaN</td>\n",
       "      <td>NaN</td>\n",
       "      <td>Master’s degree (M.A., M.S., M.Eng., MBA, etc.)</td>\n",
       "      <td>11 - 17 years</td>\n",
       "      <td>Other online resources (ex: videos, blogs, etc...</td>\n",
       "      <td>5</td>\n",
       "      <td>4</td>\n",
       "      <td>Developer, full-stack</td>\n",
       "      <td>1,000 to 4,999 employees</td>\n",
       "      <td>INR\\tIndian rupee</td>\n",
       "      <td>NaN</td>\n",
       "      <td>NaN</td>\n",
       "      <td>HTML/CSS;JavaScript;Node.js;Python;TypeScript</td>\n",
       "      <td>HTML/CSS;JavaScript;Node.js;PowerShell;Python;...</td>\n",
       "      <td>Firebase;MongoDB;Redis</td>\n",
       "      <td>DynamoDB;Elasticsearch;Firebase;MongoDB;Redis</td>\n",
       "      <td>AWS;DigitalOcean;Heroku;Microsoft Azure;Oracle...</td>\n",
       "      <td>AWS;DigitalOcean;Google Cloud Platform;Heroku;...</td>\n",
       "      <td>Angular;Express;React.js</td>\n",
       "      <td>Angular;Express;React.js</td>\n",
       "      <td>Cordova</td>\n",
       "      <td>Cordova</td>\n",
       "      <td>Docker;Git;Kubernetes</td>\n",
       "      <td>Docker;Git;Kubernetes</td>\n",
       "      <td>Visual Studio Code;Xcode</td>\n",
       "      <td>Visual Studio Code;Xcode</td>\n",
       "      <td>MacOS</td>\n",
       "      <td>Visit Stack Overflow;Go for a walk or other ph...</td>\n",
       "      <td>Stack Overflow</td>\n",
       "      <td>Multiple times per day</td>\n",
       "      <td>Yes</td>\n",
       "      <td>Less than once per month or monthly</td>\n",
       "      <td>Yes, definitely</td>\n",
       "      <td>No</td>\n",
       "      <td>25-34 years old</td>\n",
       "      <td>Man</td>\n",
       "      <td>No</td>\n",
       "      <td>Prefer not to say</td>\n",
       "      <td>I don't know</td>\n",
       "      <td>None of the above</td>\n",
       "      <td>None of the above</td>\n",
       "      <td>Too long</td>\n",
       "      <td>Neither easy nor difficult</td>\n",
       "      <td>NaN</td>\n",
       "    </tr>\n",
       "  </tbody>\n",
       "</table>\n",
       "</div>"
      ],
      "text/plain": [
       "                                        MainBranch          Employment  \\\n",
       "ResponseId                                                               \n",
       "9                   I am a developer by profession  Employed part-time   \n",
       "23          I am a student who is learning to code  Student, full-time   \n",
       "40          I am a student who is learning to code  Student, part-time   \n",
       "50          I am a student who is learning to code  Student, full-time   \n",
       "53                  I am a developer by profession  Employed full-time   \n",
       "\n",
       "           Country US_State UK_Country  \\\n",
       "ResponseId                               \n",
       "9            India      NaN        NaN   \n",
       "23           India      NaN        NaN   \n",
       "40           India      NaN        NaN   \n",
       "50           India      NaN        NaN   \n",
       "53           India      NaN        NaN   \n",
       "\n",
       "                                                      EdLevel     Age1stCode  \\\n",
       "ResponseId                                                                     \n",
       "9                Bachelor’s degree (B.A., B.S., B.Eng., etc.)  18 - 24 years   \n",
       "23          Some college/university study without earning ...   5 - 10 years   \n",
       "40               Bachelor’s degree (B.A., B.S., B.Eng., etc.)  11 - 17 years   \n",
       "50          Some college/university study without earning ...  11 - 17 years   \n",
       "53            Master’s degree (M.A., M.S., M.Eng., MBA, etc.)  11 - 17 years   \n",
       "\n",
       "                                                    LearnCode YearsCode  \\\n",
       "ResponseId                                                                \n",
       "9                                             Coding Bootcamp         6   \n",
       "23                             School;Friend or family member         7   \n",
       "40                                                     School         3   \n",
       "50          Coding Bootcamp;Other online resources (ex: vi...       NaN   \n",
       "53          Other online resources (ex: videos, blogs, etc...         5   \n",
       "\n",
       "           YearsCodePro                DevType                   OrgSize  \\\n",
       "ResponseId                                                                 \n",
       "9                     4   Developer, front-end  10,000 or more employees   \n",
       "23                  NaN                    NaN                       NaN   \n",
       "40                  NaN                    NaN                       NaN   \n",
       "50                  NaN                    NaN                       NaN   \n",
       "53                    4  Developer, full-stack  1,000 to 4,999 employees   \n",
       "\n",
       "                     Currency  CompTotal CompFreq  \\\n",
       "ResponseId                                          \n",
       "9           INR\\tIndian rupee        NaN  Monthly   \n",
       "23                        NaN        NaN      NaN   \n",
       "40                        NaN        NaN      NaN   \n",
       "50                        NaN        NaN      NaN   \n",
       "53          INR\\tIndian rupee        NaN      NaN   \n",
       "\n",
       "                                       LanguageHaveWorkedWith  \\\n",
       "ResponseId                                                      \n",
       "9                                         HTML/CSS;JavaScript   \n",
       "23                                         C#;HTML/CSS;Python   \n",
       "40                C;C#;C++;HTML/CSS;JavaScript;Node.js;Python   \n",
       "50          C;HTML/CSS;Java;JavaScript;Kotlin;Node.js;Pyth...   \n",
       "53              HTML/CSS;JavaScript;Node.js;Python;TypeScript   \n",
       "\n",
       "                                       LanguageWantToWorkWith  \\\n",
       "ResponseId                                                      \n",
       "9                                         HTML/CSS;JavaScript   \n",
       "23                                         Java;Kotlin;Python   \n",
       "40                                                        NaN   \n",
       "50                                         Dart;Elixir;Go;SQL   \n",
       "53          HTML/CSS;JavaScript;Node.js;PowerShell;Python;...   \n",
       "\n",
       "            DatabaseHaveWorkedWith  \\\n",
       "ResponseId                           \n",
       "9                       PostgreSQL   \n",
       "23                             NaN   \n",
       "40                         MongoDB   \n",
       "50                             NaN   \n",
       "53          Firebase;MongoDB;Redis   \n",
       "\n",
       "                                   DatabaseWantToWorkWith  \\\n",
       "ResponseId                                                  \n",
       "9                                              PostgreSQL   \n",
       "23                                                    NaN   \n",
       "40                                                    NaN   \n",
       "50                                                    NaN   \n",
       "53          DynamoDB;Elasticsearch;Firebase;MongoDB;Redis   \n",
       "\n",
       "                                       PlatformHaveWorkedWith  \\\n",
       "ResponseId                                                      \n",
       "9                                                         AWS   \n",
       "23                                                        NaN   \n",
       "40                                                     Heroku   \n",
       "50                                                     Heroku   \n",
       "53          AWS;DigitalOcean;Heroku;Microsoft Azure;Oracle...   \n",
       "\n",
       "                                       PlatformWantToWorkWith  \\\n",
       "ResponseId                                                      \n",
       "9                                                         NaN   \n",
       "23                                                        NaN   \n",
       "40                                                        NaN   \n",
       "50                                                        NaN   \n",
       "53          AWS;DigitalOcean;Google Cloud Platform;Heroku;...   \n",
       "\n",
       "              WebframeHaveWorkedWith    WebframeWantToWorkWith  \\\n",
       "ResponseId                                                       \n",
       "9                     Django;FastAPI            Django;FastAPI   \n",
       "23                               NaN                       NaN   \n",
       "40           Express;jQuery;React.js                       NaN   \n",
       "50           Django;Express;React.js                   Angular   \n",
       "53          Angular;Express;React.js  Angular;Express;React.js   \n",
       "\n",
       "            MiscTechHaveWorkedWith MiscTechWantToWorkWith  \\\n",
       "ResponseId                                                  \n",
       "9                              NaN                    NaN   \n",
       "23                             NaN                    NaN   \n",
       "40          Keras;NumPy;TensorFlow                    NaN   \n",
       "50                             NaN                    NaN   \n",
       "53                         Cordova                Cordova   \n",
       "\n",
       "           ToolsTechHaveWorkedWith ToolsTechWantToWorkWith  \\\n",
       "ResponseId                                                   \n",
       "9                       Docker;Git   Docker;Git;Kubernetes   \n",
       "23                        Unity 3D                     NaN   \n",
       "40                   Flow;Unity 3D                     NaN   \n",
       "50                        Git;Yarn                     NaN   \n",
       "53           Docker;Git;Kubernetes   Docker;Git;Kubernetes   \n",
       "\n",
       "                                 NEWCollabToolsHaveWorkedWith  \\\n",
       "ResponseId                                                      \n",
       "9                                        PyCharm;Sublime Text   \n",
       "23                                             Android Studio   \n",
       "40            IPython/Jupyter;Sublime Text;Visual Studio Code   \n",
       "50          Android Studio;Atom;Notepad++;Sublime Text;Vis...   \n",
       "53                                   Visual Studio Code;Xcode   \n",
       "\n",
       "           NEWCollabToolsWantToWorkWith        OpSys  \\\n",
       "ResponseId                                             \n",
       "9                  PyCharm;Sublime Text      Windows   \n",
       "23                       Android Studio      Windows   \n",
       "40                                  NaN  Linux-based   \n",
       "50                                  NaN      Windows   \n",
       "53             Visual Studio Code;Xcode        MacOS   \n",
       "\n",
       "                                                     NEWStuck  \\\n",
       "ResponseId                                                      \n",
       "9                        Visit Stack Overflow;Google it;Panic   \n",
       "23          Visit Stack Overflow;Google it;Watch help / tu...   \n",
       "40          Visit Stack Overflow;Go for a walk or other ph...   \n",
       "50          Visit Stack Overflow;Go for a walk or other ph...   \n",
       "53          Visit Stack Overflow;Go for a walk or other ph...   \n",
       "\n",
       "                               NEWSOSites             SOVisitFreq SOAccount  \\\n",
       "ResponseId                                                                    \n",
       "9           Stack Overflow;Stack Exchange    A few times per week       Yes   \n",
       "23          Stack Overflow;Stack Exchange  Multiple times per day       Yes   \n",
       "40          Stack Overflow;Stack Exchange  Multiple times per day       Yes   \n",
       "50                         Stack Overflow  Multiple times per day       Yes   \n",
       "53                         Stack Overflow  Multiple times per day       Yes   \n",
       "\n",
       "                                     SOPartFreq           SOComm  \\\n",
       "ResponseId                                                         \n",
       "9           Less than once per month or monthly  Yes, definitely   \n",
       "23                       Multiple times per day  Yes, definitely   \n",
       "40              A few times per month or weekly    Yes, somewhat   \n",
       "50                         A few times per week  Yes, definitely   \n",
       "53          Less than once per month or monthly  Yes, definitely   \n",
       "\n",
       "           NEWOtherComms                 Age Gender Trans  \\\n",
       "ResponseId                                                  \n",
       "9                     No     25-34 years old    Man    No   \n",
       "23                    No  Under 18 years old    Man    No   \n",
       "40                   Yes     18-24 years old  Woman    No   \n",
       "50                    No     18-24 years old    Man    No   \n",
       "53                    No     25-34 years old    Man    No   \n",
       "\n",
       "                          Sexuality                     Ethnicity  \\\n",
       "ResponseId                                                          \n",
       "9                               NaN                   South Asian   \n",
       "23                Prefer not to say             Prefer not to say   \n",
       "40          Straight / Heterosexual  White or of European descent   \n",
       "50          Straight / Heterosexual                   South Asian   \n",
       "53                Prefer not to say                  I don't know   \n",
       "\n",
       "                Accessibility  \\\n",
       "ResponseId                      \n",
       "9                         NaN   \n",
       "23          None of the above   \n",
       "40          None of the above   \n",
       "50          None of the above   \n",
       "53          None of the above   \n",
       "\n",
       "                                                 MentalHealth  \\\n",
       "ResponseId                                                      \n",
       "9           I have a concentration and/or memory disorder ...   \n",
       "23                                          None of the above   \n",
       "40          I have a concentration and/or memory disorder ...   \n",
       "50                                          None of the above   \n",
       "53                                          None of the above   \n",
       "\n",
       "                     SurveyLength                  SurveyEase  \\\n",
       "ResponseId                                                      \n",
       "9           Appropriate in length                        Easy   \n",
       "23          Appropriate in length                        Easy   \n",
       "40          Appropriate in length                        Easy   \n",
       "50          Appropriate in length                        Easy   \n",
       "53                       Too long  Neither easy nor difficult   \n",
       "\n",
       "            ConvertedCompYearly  \n",
       "ResponseId                       \n",
       "9                           NaN  \n",
       "23                          NaN  \n",
       "40                          NaN  \n",
       "50                          NaN  \n",
       "53                          NaN  "
      ]
     },
     "execution_count": 40,
     "metadata": {},
     "output_type": "execute_result"
    }
   ],
   "source": [
    "filt = (df['Country'] == 'India')\n",
    "india_df = df.loc[filt]\n",
    "india_df.head()"
   ]
  },
  {
   "cell_type": "code",
   "execution_count": 41,
   "id": "dee7750a",
   "metadata": {},
   "outputs": [],
   "source": [
    "india_df.to_csv('modified_india.csv')"
   ]
  },
  {
   "cell_type": "code",
   "execution_count": 42,
   "id": "eb558ad3",
   "metadata": {},
   "outputs": [],
   "source": [
    "india_df.to_csv('modified1_india.tsv',sep='\\t')"
   ]
  },
  {
   "cell_type": "code",
   "execution_count": 43,
   "id": "4021a087",
   "metadata": {},
   "outputs": [],
   "source": [
    "india_df.to_excel('modified2.xlsx')"
   ]
  },
  {
   "cell_type": "code",
   "execution_count": 44,
   "id": "27faad26",
   "metadata": {},
   "outputs": [
    {
     "data": {
      "text/html": [
       "<div>\n",
       "<style scoped>\n",
       "    .dataframe tbody tr th:only-of-type {\n",
       "        vertical-align: middle;\n",
       "    }\n",
       "\n",
       "    .dataframe tbody tr th {\n",
       "        vertical-align: top;\n",
       "    }\n",
       "\n",
       "    .dataframe thead th {\n",
       "        text-align: right;\n",
       "    }\n",
       "</style>\n",
       "<table border=\"1\" class=\"dataframe\">\n",
       "  <thead>\n",
       "    <tr style=\"text-align: right;\">\n",
       "      <th></th>\n",
       "      <th>MainBranch</th>\n",
       "      <th>Employment</th>\n",
       "      <th>Country</th>\n",
       "      <th>US_State</th>\n",
       "      <th>UK_Country</th>\n",
       "      <th>EdLevel</th>\n",
       "      <th>Age1stCode</th>\n",
       "      <th>LearnCode</th>\n",
       "      <th>YearsCode</th>\n",
       "      <th>YearsCodePro</th>\n",
       "      <th>DevType</th>\n",
       "      <th>OrgSize</th>\n",
       "      <th>Currency</th>\n",
       "      <th>CompTotal</th>\n",
       "      <th>CompFreq</th>\n",
       "      <th>LanguageHaveWorkedWith</th>\n",
       "      <th>LanguageWantToWorkWith</th>\n",
       "      <th>DatabaseHaveWorkedWith</th>\n",
       "      <th>DatabaseWantToWorkWith</th>\n",
       "      <th>PlatformHaveWorkedWith</th>\n",
       "      <th>PlatformWantToWorkWith</th>\n",
       "      <th>WebframeHaveWorkedWith</th>\n",
       "      <th>WebframeWantToWorkWith</th>\n",
       "      <th>MiscTechHaveWorkedWith</th>\n",
       "      <th>MiscTechWantToWorkWith</th>\n",
       "      <th>ToolsTechHaveWorkedWith</th>\n",
       "      <th>ToolsTechWantToWorkWith</th>\n",
       "      <th>NEWCollabToolsHaveWorkedWith</th>\n",
       "      <th>NEWCollabToolsWantToWorkWith</th>\n",
       "      <th>OpSys</th>\n",
       "      <th>NEWStuck</th>\n",
       "      <th>NEWSOSites</th>\n",
       "      <th>SOVisitFreq</th>\n",
       "      <th>SOAccount</th>\n",
       "      <th>SOPartFreq</th>\n",
       "      <th>SOComm</th>\n",
       "      <th>NEWOtherComms</th>\n",
       "      <th>Age</th>\n",
       "      <th>Gender</th>\n",
       "      <th>Trans</th>\n",
       "      <th>Sexuality</th>\n",
       "      <th>Ethnicity</th>\n",
       "      <th>Accessibility</th>\n",
       "      <th>MentalHealth</th>\n",
       "      <th>SurveyLength</th>\n",
       "      <th>SurveyEase</th>\n",
       "      <th>ConvertedCompYearly</th>\n",
       "    </tr>\n",
       "    <tr>\n",
       "      <th>ResponseId</th>\n",
       "      <th></th>\n",
       "      <th></th>\n",
       "      <th></th>\n",
       "      <th></th>\n",
       "      <th></th>\n",
       "      <th></th>\n",
       "      <th></th>\n",
       "      <th></th>\n",
       "      <th></th>\n",
       "      <th></th>\n",
       "      <th></th>\n",
       "      <th></th>\n",
       "      <th></th>\n",
       "      <th></th>\n",
       "      <th></th>\n",
       "      <th></th>\n",
       "      <th></th>\n",
       "      <th></th>\n",
       "      <th></th>\n",
       "      <th></th>\n",
       "      <th></th>\n",
       "      <th></th>\n",
       "      <th></th>\n",
       "      <th></th>\n",
       "      <th></th>\n",
       "      <th></th>\n",
       "      <th></th>\n",
       "      <th></th>\n",
       "      <th></th>\n",
       "      <th></th>\n",
       "      <th></th>\n",
       "      <th></th>\n",
       "      <th></th>\n",
       "      <th></th>\n",
       "      <th></th>\n",
       "      <th></th>\n",
       "      <th></th>\n",
       "      <th></th>\n",
       "      <th></th>\n",
       "      <th></th>\n",
       "      <th></th>\n",
       "      <th></th>\n",
       "      <th></th>\n",
       "      <th></th>\n",
       "      <th></th>\n",
       "      <th></th>\n",
       "      <th></th>\n",
       "    </tr>\n",
       "  </thead>\n",
       "  <tbody>\n",
       "    <tr>\n",
       "      <th>9</th>\n",
       "      <td>I am a developer by profession</td>\n",
       "      <td>Employed part-time</td>\n",
       "      <td>India</td>\n",
       "      <td>NaN</td>\n",
       "      <td>NaN</td>\n",
       "      <td>Bachelor’s degree (B.A., B.S., B.Eng., etc.)</td>\n",
       "      <td>18 - 24 years</td>\n",
       "      <td>Coding Bootcamp</td>\n",
       "      <td>6</td>\n",
       "      <td>4</td>\n",
       "      <td>Developer, front-end</td>\n",
       "      <td>10,000 or more employees</td>\n",
       "      <td>INR\\tIndian rupee</td>\n",
       "      <td>NaN</td>\n",
       "      <td>Monthly</td>\n",
       "      <td>HTML/CSS;JavaScript</td>\n",
       "      <td>HTML/CSS;JavaScript</td>\n",
       "      <td>PostgreSQL</td>\n",
       "      <td>PostgreSQL</td>\n",
       "      <td>AWS</td>\n",
       "      <td>NaN</td>\n",
       "      <td>Django;FastAPI</td>\n",
       "      <td>Django;FastAPI</td>\n",
       "      <td>NaN</td>\n",
       "      <td>NaN</td>\n",
       "      <td>Docker;Git</td>\n",
       "      <td>Docker;Git;Kubernetes</td>\n",
       "      <td>PyCharm;Sublime Text</td>\n",
       "      <td>PyCharm;Sublime Text</td>\n",
       "      <td>Windows</td>\n",
       "      <td>Visit Stack Overflow;Google it;Panic</td>\n",
       "      <td>Stack Overflow;Stack Exchange</td>\n",
       "      <td>A few times per week</td>\n",
       "      <td>Yes</td>\n",
       "      <td>Less than once per month or monthly</td>\n",
       "      <td>Yes, definitely</td>\n",
       "      <td>No</td>\n",
       "      <td>25-34 years old</td>\n",
       "      <td>Man</td>\n",
       "      <td>No</td>\n",
       "      <td>NaN</td>\n",
       "      <td>South Asian</td>\n",
       "      <td>NaN</td>\n",
       "      <td>I have a concentration and/or memory disorder ...</td>\n",
       "      <td>Appropriate in length</td>\n",
       "      <td>Easy</td>\n",
       "      <td>NaN</td>\n",
       "    </tr>\n",
       "    <tr>\n",
       "      <th>23</th>\n",
       "      <td>I am a student who is learning to code</td>\n",
       "      <td>Student, full-time</td>\n",
       "      <td>India</td>\n",
       "      <td>NaN</td>\n",
       "      <td>NaN</td>\n",
       "      <td>Some college/university study without earning ...</td>\n",
       "      <td>5 - 10 years</td>\n",
       "      <td>School;Friend or family member</td>\n",
       "      <td>7</td>\n",
       "      <td>NaN</td>\n",
       "      <td>NaN</td>\n",
       "      <td>NaN</td>\n",
       "      <td>NaN</td>\n",
       "      <td>NaN</td>\n",
       "      <td>NaN</td>\n",
       "      <td>C#;HTML/CSS;Python</td>\n",
       "      <td>Java;Kotlin;Python</td>\n",
       "      <td>NaN</td>\n",
       "      <td>NaN</td>\n",
       "      <td>NaN</td>\n",
       "      <td>NaN</td>\n",
       "      <td>NaN</td>\n",
       "      <td>NaN</td>\n",
       "      <td>NaN</td>\n",
       "      <td>NaN</td>\n",
       "      <td>Unity 3D</td>\n",
       "      <td>NaN</td>\n",
       "      <td>Android Studio</td>\n",
       "      <td>Android Studio</td>\n",
       "      <td>Windows</td>\n",
       "      <td>Visit Stack Overflow;Google it;Watch help / tu...</td>\n",
       "      <td>Stack Overflow;Stack Exchange</td>\n",
       "      <td>Multiple times per day</td>\n",
       "      <td>Yes</td>\n",
       "      <td>Multiple times per day</td>\n",
       "      <td>Yes, definitely</td>\n",
       "      <td>No</td>\n",
       "      <td>Under 18 years old</td>\n",
       "      <td>Man</td>\n",
       "      <td>No</td>\n",
       "      <td>Prefer not to say</td>\n",
       "      <td>Prefer not to say</td>\n",
       "      <td>None of the above</td>\n",
       "      <td>None of the above</td>\n",
       "      <td>Appropriate in length</td>\n",
       "      <td>Easy</td>\n",
       "      <td>NaN</td>\n",
       "    </tr>\n",
       "    <tr>\n",
       "      <th>40</th>\n",
       "      <td>I am a student who is learning to code</td>\n",
       "      <td>Student, part-time</td>\n",
       "      <td>India</td>\n",
       "      <td>NaN</td>\n",
       "      <td>NaN</td>\n",
       "      <td>Bachelor’s degree (B.A., B.S., B.Eng., etc.)</td>\n",
       "      <td>11 - 17 years</td>\n",
       "      <td>School</td>\n",
       "      <td>3</td>\n",
       "      <td>NaN</td>\n",
       "      <td>NaN</td>\n",
       "      <td>NaN</td>\n",
       "      <td>NaN</td>\n",
       "      <td>NaN</td>\n",
       "      <td>NaN</td>\n",
       "      <td>C;C#;C++;HTML/CSS;JavaScript;Node.js;Python</td>\n",
       "      <td>NaN</td>\n",
       "      <td>MongoDB</td>\n",
       "      <td>NaN</td>\n",
       "      <td>Heroku</td>\n",
       "      <td>NaN</td>\n",
       "      <td>Express;jQuery;React.js</td>\n",
       "      <td>NaN</td>\n",
       "      <td>Keras;NumPy;TensorFlow</td>\n",
       "      <td>NaN</td>\n",
       "      <td>Flow;Unity 3D</td>\n",
       "      <td>NaN</td>\n",
       "      <td>IPython/Jupyter;Sublime Text;Visual Studio Code</td>\n",
       "      <td>NaN</td>\n",
       "      <td>Linux-based</td>\n",
       "      <td>Visit Stack Overflow;Go for a walk or other ph...</td>\n",
       "      <td>Stack Overflow;Stack Exchange</td>\n",
       "      <td>Multiple times per day</td>\n",
       "      <td>Yes</td>\n",
       "      <td>A few times per month or weekly</td>\n",
       "      <td>Yes, somewhat</td>\n",
       "      <td>Yes</td>\n",
       "      <td>18-24 years old</td>\n",
       "      <td>Woman</td>\n",
       "      <td>No</td>\n",
       "      <td>Straight / Heterosexual</td>\n",
       "      <td>White or of European descent</td>\n",
       "      <td>None of the above</td>\n",
       "      <td>I have a concentration and/or memory disorder ...</td>\n",
       "      <td>Appropriate in length</td>\n",
       "      <td>Easy</td>\n",
       "      <td>NaN</td>\n",
       "    </tr>\n",
       "    <tr>\n",
       "      <th>50</th>\n",
       "      <td>I am a student who is learning to code</td>\n",
       "      <td>Student, full-time</td>\n",
       "      <td>India</td>\n",
       "      <td>NaN</td>\n",
       "      <td>NaN</td>\n",
       "      <td>Some college/university study without earning ...</td>\n",
       "      <td>11 - 17 years</td>\n",
       "      <td>Coding Bootcamp;Other online resources (ex: vi...</td>\n",
       "      <td>NaN</td>\n",
       "      <td>NaN</td>\n",
       "      <td>NaN</td>\n",
       "      <td>NaN</td>\n",
       "      <td>NaN</td>\n",
       "      <td>NaN</td>\n",
       "      <td>NaN</td>\n",
       "      <td>C;HTML/CSS;Java;JavaScript;Kotlin;Node.js;Pyth...</td>\n",
       "      <td>Dart;Elixir;Go;SQL</td>\n",
       "      <td>NaN</td>\n",
       "      <td>NaN</td>\n",
       "      <td>Heroku</td>\n",
       "      <td>NaN</td>\n",
       "      <td>Django;Express;React.js</td>\n",
       "      <td>Angular</td>\n",
       "      <td>NaN</td>\n",
       "      <td>NaN</td>\n",
       "      <td>Git;Yarn</td>\n",
       "      <td>NaN</td>\n",
       "      <td>Android Studio;Atom;Notepad++;Sublime Text;Vis...</td>\n",
       "      <td>NaN</td>\n",
       "      <td>Windows</td>\n",
       "      <td>Visit Stack Overflow;Go for a walk or other ph...</td>\n",
       "      <td>Stack Overflow</td>\n",
       "      <td>Multiple times per day</td>\n",
       "      <td>Yes</td>\n",
       "      <td>A few times per week</td>\n",
       "      <td>Yes, definitely</td>\n",
       "      <td>No</td>\n",
       "      <td>18-24 years old</td>\n",
       "      <td>Man</td>\n",
       "      <td>No</td>\n",
       "      <td>Straight / Heterosexual</td>\n",
       "      <td>South Asian</td>\n",
       "      <td>None of the above</td>\n",
       "      <td>None of the above</td>\n",
       "      <td>Appropriate in length</td>\n",
       "      <td>Easy</td>\n",
       "      <td>NaN</td>\n",
       "    </tr>\n",
       "    <tr>\n",
       "      <th>53</th>\n",
       "      <td>I am a developer by profession</td>\n",
       "      <td>Employed full-time</td>\n",
       "      <td>India</td>\n",
       "      <td>NaN</td>\n",
       "      <td>NaN</td>\n",
       "      <td>Master’s degree (M.A., M.S., M.Eng., MBA, etc.)</td>\n",
       "      <td>11 - 17 years</td>\n",
       "      <td>Other online resources (ex: videos, blogs, etc...</td>\n",
       "      <td>5</td>\n",
       "      <td>4</td>\n",
       "      <td>Developer, full-stack</td>\n",
       "      <td>1,000 to 4,999 employees</td>\n",
       "      <td>INR\\tIndian rupee</td>\n",
       "      <td>NaN</td>\n",
       "      <td>NaN</td>\n",
       "      <td>HTML/CSS;JavaScript;Node.js;Python;TypeScript</td>\n",
       "      <td>HTML/CSS;JavaScript;Node.js;PowerShell;Python;...</td>\n",
       "      <td>Firebase;MongoDB;Redis</td>\n",
       "      <td>DynamoDB;Elasticsearch;Firebase;MongoDB;Redis</td>\n",
       "      <td>AWS;DigitalOcean;Heroku;Microsoft Azure;Oracle...</td>\n",
       "      <td>AWS;DigitalOcean;Google Cloud Platform;Heroku;...</td>\n",
       "      <td>Angular;Express;React.js</td>\n",
       "      <td>Angular;Express;React.js</td>\n",
       "      <td>Cordova</td>\n",
       "      <td>Cordova</td>\n",
       "      <td>Docker;Git;Kubernetes</td>\n",
       "      <td>Docker;Git;Kubernetes</td>\n",
       "      <td>Visual Studio Code;Xcode</td>\n",
       "      <td>Visual Studio Code;Xcode</td>\n",
       "      <td>MacOS</td>\n",
       "      <td>Visit Stack Overflow;Go for a walk or other ph...</td>\n",
       "      <td>Stack Overflow</td>\n",
       "      <td>Multiple times per day</td>\n",
       "      <td>Yes</td>\n",
       "      <td>Less than once per month or monthly</td>\n",
       "      <td>Yes, definitely</td>\n",
       "      <td>No</td>\n",
       "      <td>25-34 years old</td>\n",
       "      <td>Man</td>\n",
       "      <td>No</td>\n",
       "      <td>Prefer not to say</td>\n",
       "      <td>I don't know</td>\n",
       "      <td>None of the above</td>\n",
       "      <td>None of the above</td>\n",
       "      <td>Too long</td>\n",
       "      <td>Neither easy nor difficult</td>\n",
       "      <td>NaN</td>\n",
       "    </tr>\n",
       "  </tbody>\n",
       "</table>\n",
       "</div>"
      ],
      "text/plain": [
       "                                        MainBranch          Employment  \\\n",
       "ResponseId                                                               \n",
       "9                   I am a developer by profession  Employed part-time   \n",
       "23          I am a student who is learning to code  Student, full-time   \n",
       "40          I am a student who is learning to code  Student, part-time   \n",
       "50          I am a student who is learning to code  Student, full-time   \n",
       "53                  I am a developer by profession  Employed full-time   \n",
       "\n",
       "           Country  US_State  UK_Country  \\\n",
       "ResponseId                                 \n",
       "9            India       NaN         NaN   \n",
       "23           India       NaN         NaN   \n",
       "40           India       NaN         NaN   \n",
       "50           India       NaN         NaN   \n",
       "53           India       NaN         NaN   \n",
       "\n",
       "                                                      EdLevel     Age1stCode  \\\n",
       "ResponseId                                                                     \n",
       "9                Bachelor’s degree (B.A., B.S., B.Eng., etc.)  18 - 24 years   \n",
       "23          Some college/university study without earning ...   5 - 10 years   \n",
       "40               Bachelor’s degree (B.A., B.S., B.Eng., etc.)  11 - 17 years   \n",
       "50          Some college/university study without earning ...  11 - 17 years   \n",
       "53            Master’s degree (M.A., M.S., M.Eng., MBA, etc.)  11 - 17 years   \n",
       "\n",
       "                                                    LearnCode YearsCode  \\\n",
       "ResponseId                                                                \n",
       "9                                             Coding Bootcamp         6   \n",
       "23                             School;Friend or family member         7   \n",
       "40                                                     School         3   \n",
       "50          Coding Bootcamp;Other online resources (ex: vi...       NaN   \n",
       "53          Other online resources (ex: videos, blogs, etc...         5   \n",
       "\n",
       "           YearsCodePro                DevType                   OrgSize  \\\n",
       "ResponseId                                                                 \n",
       "9                     4   Developer, front-end  10,000 or more employees   \n",
       "23                  NaN                    NaN                       NaN   \n",
       "40                  NaN                    NaN                       NaN   \n",
       "50                  NaN                    NaN                       NaN   \n",
       "53                    4  Developer, full-stack  1,000 to 4,999 employees   \n",
       "\n",
       "                     Currency  CompTotal CompFreq  \\\n",
       "ResponseId                                          \n",
       "9           INR\\tIndian rupee        NaN  Monthly   \n",
       "23                        NaN        NaN      NaN   \n",
       "40                        NaN        NaN      NaN   \n",
       "50                        NaN        NaN      NaN   \n",
       "53          INR\\tIndian rupee        NaN      NaN   \n",
       "\n",
       "                                       LanguageHaveWorkedWith  \\\n",
       "ResponseId                                                      \n",
       "9                                         HTML/CSS;JavaScript   \n",
       "23                                         C#;HTML/CSS;Python   \n",
       "40                C;C#;C++;HTML/CSS;JavaScript;Node.js;Python   \n",
       "50          C;HTML/CSS;Java;JavaScript;Kotlin;Node.js;Pyth...   \n",
       "53              HTML/CSS;JavaScript;Node.js;Python;TypeScript   \n",
       "\n",
       "                                       LanguageWantToWorkWith  \\\n",
       "ResponseId                                                      \n",
       "9                                         HTML/CSS;JavaScript   \n",
       "23                                         Java;Kotlin;Python   \n",
       "40                                                        NaN   \n",
       "50                                         Dart;Elixir;Go;SQL   \n",
       "53          HTML/CSS;JavaScript;Node.js;PowerShell;Python;...   \n",
       "\n",
       "            DatabaseHaveWorkedWith  \\\n",
       "ResponseId                           \n",
       "9                       PostgreSQL   \n",
       "23                             NaN   \n",
       "40                         MongoDB   \n",
       "50                             NaN   \n",
       "53          Firebase;MongoDB;Redis   \n",
       "\n",
       "                                   DatabaseWantToWorkWith  \\\n",
       "ResponseId                                                  \n",
       "9                                              PostgreSQL   \n",
       "23                                                    NaN   \n",
       "40                                                    NaN   \n",
       "50                                                    NaN   \n",
       "53          DynamoDB;Elasticsearch;Firebase;MongoDB;Redis   \n",
       "\n",
       "                                       PlatformHaveWorkedWith  \\\n",
       "ResponseId                                                      \n",
       "9                                                         AWS   \n",
       "23                                                        NaN   \n",
       "40                                                     Heroku   \n",
       "50                                                     Heroku   \n",
       "53          AWS;DigitalOcean;Heroku;Microsoft Azure;Oracle...   \n",
       "\n",
       "                                       PlatformWantToWorkWith  \\\n",
       "ResponseId                                                      \n",
       "9                                                         NaN   \n",
       "23                                                        NaN   \n",
       "40                                                        NaN   \n",
       "50                                                        NaN   \n",
       "53          AWS;DigitalOcean;Google Cloud Platform;Heroku;...   \n",
       "\n",
       "              WebframeHaveWorkedWith    WebframeWantToWorkWith  \\\n",
       "ResponseId                                                       \n",
       "9                     Django;FastAPI            Django;FastAPI   \n",
       "23                               NaN                       NaN   \n",
       "40           Express;jQuery;React.js                       NaN   \n",
       "50           Django;Express;React.js                   Angular   \n",
       "53          Angular;Express;React.js  Angular;Express;React.js   \n",
       "\n",
       "            MiscTechHaveWorkedWith MiscTechWantToWorkWith  \\\n",
       "ResponseId                                                  \n",
       "9                              NaN                    NaN   \n",
       "23                             NaN                    NaN   \n",
       "40          Keras;NumPy;TensorFlow                    NaN   \n",
       "50                             NaN                    NaN   \n",
       "53                         Cordova                Cordova   \n",
       "\n",
       "           ToolsTechHaveWorkedWith ToolsTechWantToWorkWith  \\\n",
       "ResponseId                                                   \n",
       "9                       Docker;Git   Docker;Git;Kubernetes   \n",
       "23                        Unity 3D                     NaN   \n",
       "40                   Flow;Unity 3D                     NaN   \n",
       "50                        Git;Yarn                     NaN   \n",
       "53           Docker;Git;Kubernetes   Docker;Git;Kubernetes   \n",
       "\n",
       "                                 NEWCollabToolsHaveWorkedWith  \\\n",
       "ResponseId                                                      \n",
       "9                                        PyCharm;Sublime Text   \n",
       "23                                             Android Studio   \n",
       "40            IPython/Jupyter;Sublime Text;Visual Studio Code   \n",
       "50          Android Studio;Atom;Notepad++;Sublime Text;Vis...   \n",
       "53                                   Visual Studio Code;Xcode   \n",
       "\n",
       "           NEWCollabToolsWantToWorkWith        OpSys  \\\n",
       "ResponseId                                             \n",
       "9                  PyCharm;Sublime Text      Windows   \n",
       "23                       Android Studio      Windows   \n",
       "40                                  NaN  Linux-based   \n",
       "50                                  NaN      Windows   \n",
       "53             Visual Studio Code;Xcode        MacOS   \n",
       "\n",
       "                                                     NEWStuck  \\\n",
       "ResponseId                                                      \n",
       "9                        Visit Stack Overflow;Google it;Panic   \n",
       "23          Visit Stack Overflow;Google it;Watch help / tu...   \n",
       "40          Visit Stack Overflow;Go for a walk or other ph...   \n",
       "50          Visit Stack Overflow;Go for a walk or other ph...   \n",
       "53          Visit Stack Overflow;Go for a walk or other ph...   \n",
       "\n",
       "                               NEWSOSites             SOVisitFreq SOAccount  \\\n",
       "ResponseId                                                                    \n",
       "9           Stack Overflow;Stack Exchange    A few times per week       Yes   \n",
       "23          Stack Overflow;Stack Exchange  Multiple times per day       Yes   \n",
       "40          Stack Overflow;Stack Exchange  Multiple times per day       Yes   \n",
       "50                         Stack Overflow  Multiple times per day       Yes   \n",
       "53                         Stack Overflow  Multiple times per day       Yes   \n",
       "\n",
       "                                     SOPartFreq           SOComm  \\\n",
       "ResponseId                                                         \n",
       "9           Less than once per month or monthly  Yes, definitely   \n",
       "23                       Multiple times per day  Yes, definitely   \n",
       "40              A few times per month or weekly    Yes, somewhat   \n",
       "50                         A few times per week  Yes, definitely   \n",
       "53          Less than once per month or monthly  Yes, definitely   \n",
       "\n",
       "           NEWOtherComms                 Age Gender Trans  \\\n",
       "ResponseId                                                  \n",
       "9                     No     25-34 years old    Man    No   \n",
       "23                    No  Under 18 years old    Man    No   \n",
       "40                   Yes     18-24 years old  Woman    No   \n",
       "50                    No     18-24 years old    Man    No   \n",
       "53                    No     25-34 years old    Man    No   \n",
       "\n",
       "                          Sexuality                     Ethnicity  \\\n",
       "ResponseId                                                          \n",
       "9                               NaN                   South Asian   \n",
       "23                Prefer not to say             Prefer not to say   \n",
       "40          Straight / Heterosexual  White or of European descent   \n",
       "50          Straight / Heterosexual                   South Asian   \n",
       "53                Prefer not to say                  I don't know   \n",
       "\n",
       "                Accessibility  \\\n",
       "ResponseId                      \n",
       "9                         NaN   \n",
       "23          None of the above   \n",
       "40          None of the above   \n",
       "50          None of the above   \n",
       "53          None of the above   \n",
       "\n",
       "                                                 MentalHealth  \\\n",
       "ResponseId                                                      \n",
       "9           I have a concentration and/or memory disorder ...   \n",
       "23                                          None of the above   \n",
       "40          I have a concentration and/or memory disorder ...   \n",
       "50                                          None of the above   \n",
       "53                                          None of the above   \n",
       "\n",
       "                     SurveyLength                  SurveyEase  \\\n",
       "ResponseId                                                      \n",
       "9           Appropriate in length                        Easy   \n",
       "23          Appropriate in length                        Easy   \n",
       "40          Appropriate in length                        Easy   \n",
       "50          Appropriate in length                        Easy   \n",
       "53                       Too long  Neither easy nor difficult   \n",
       "\n",
       "            ConvertedCompYearly  \n",
       "ResponseId                       \n",
       "9                           NaN  \n",
       "23                          NaN  \n",
       "40                          NaN  \n",
       "50                          NaN  \n",
       "53                          NaN  "
      ]
     },
     "execution_count": 44,
     "metadata": {},
     "output_type": "execute_result"
    }
   ],
   "source": [
    "test = pd.read_excel('modified2.xlsx', index_col='ResponseId')\n",
    "test.head()"
   ]
  },
  {
   "cell_type": "code",
   "execution_count": 45,
   "id": "216f3102",
   "metadata": {},
   "outputs": [],
   "source": [
    "india_df.to_json('modified3.json')"
   ]
  },
  {
   "cell_type": "code",
   "execution_count": 46,
   "id": "92c7a1c4",
   "metadata": {},
   "outputs": [],
   "source": [
    "india_df.to_json('modified4.json',orient='records', lines=True)"
   ]
  },
  {
   "cell_type": "code",
   "execution_count": 47,
   "id": "678801a3",
   "metadata": {},
   "outputs": [
    {
     "data": {
      "text/html": [
       "<div>\n",
       "<style scoped>\n",
       "    .dataframe tbody tr th:only-of-type {\n",
       "        vertical-align: middle;\n",
       "    }\n",
       "\n",
       "    .dataframe tbody tr th {\n",
       "        vertical-align: top;\n",
       "    }\n",
       "\n",
       "    .dataframe thead th {\n",
       "        text-align: right;\n",
       "    }\n",
       "</style>\n",
       "<table border=\"1\" class=\"dataframe\">\n",
       "  <thead>\n",
       "    <tr style=\"text-align: right;\">\n",
       "      <th></th>\n",
       "      <th>MainBranch</th>\n",
       "      <th>Employment</th>\n",
       "      <th>Country</th>\n",
       "      <th>US_State</th>\n",
       "      <th>UK_Country</th>\n",
       "      <th>EdLevel</th>\n",
       "      <th>Age1stCode</th>\n",
       "      <th>LearnCode</th>\n",
       "      <th>YearsCode</th>\n",
       "      <th>YearsCodePro</th>\n",
       "      <th>DevType</th>\n",
       "      <th>OrgSize</th>\n",
       "      <th>Currency</th>\n",
       "      <th>CompTotal</th>\n",
       "      <th>CompFreq</th>\n",
       "      <th>LanguageHaveWorkedWith</th>\n",
       "      <th>LanguageWantToWorkWith</th>\n",
       "      <th>DatabaseHaveWorkedWith</th>\n",
       "      <th>DatabaseWantToWorkWith</th>\n",
       "      <th>PlatformHaveWorkedWith</th>\n",
       "      <th>PlatformWantToWorkWith</th>\n",
       "      <th>WebframeHaveWorkedWith</th>\n",
       "      <th>WebframeWantToWorkWith</th>\n",
       "      <th>MiscTechHaveWorkedWith</th>\n",
       "      <th>MiscTechWantToWorkWith</th>\n",
       "      <th>ToolsTechHaveWorkedWith</th>\n",
       "      <th>ToolsTechWantToWorkWith</th>\n",
       "      <th>NEWCollabToolsHaveWorkedWith</th>\n",
       "      <th>NEWCollabToolsWantToWorkWith</th>\n",
       "      <th>OpSys</th>\n",
       "      <th>NEWStuck</th>\n",
       "      <th>NEWSOSites</th>\n",
       "      <th>SOVisitFreq</th>\n",
       "      <th>SOAccount</th>\n",
       "      <th>SOPartFreq</th>\n",
       "      <th>SOComm</th>\n",
       "      <th>NEWOtherComms</th>\n",
       "      <th>Age</th>\n",
       "      <th>Gender</th>\n",
       "      <th>Trans</th>\n",
       "      <th>Sexuality</th>\n",
       "      <th>Ethnicity</th>\n",
       "      <th>Accessibility</th>\n",
       "      <th>MentalHealth</th>\n",
       "      <th>SurveyLength</th>\n",
       "      <th>SurveyEase</th>\n",
       "      <th>ConvertedCompYearly</th>\n",
       "    </tr>\n",
       "  </thead>\n",
       "  <tbody>\n",
       "    <tr>\n",
       "      <th>0</th>\n",
       "      <td>I am a developer by profession</td>\n",
       "      <td>Employed part-time</td>\n",
       "      <td>India</td>\n",
       "      <td>NaN</td>\n",
       "      <td>NaN</td>\n",
       "      <td>Bachelor’s degree (B.A., B.S., B.Eng., etc.)</td>\n",
       "      <td>18 - 24 years</td>\n",
       "      <td>Coding Bootcamp</td>\n",
       "      <td>6</td>\n",
       "      <td>4</td>\n",
       "      <td>Developer, front-end</td>\n",
       "      <td>10,000 or more employees</td>\n",
       "      <td>INR\\tIndian rupee</td>\n",
       "      <td>NaN</td>\n",
       "      <td>Monthly</td>\n",
       "      <td>HTML/CSS;JavaScript</td>\n",
       "      <td>HTML/CSS;JavaScript</td>\n",
       "      <td>PostgreSQL</td>\n",
       "      <td>PostgreSQL</td>\n",
       "      <td>AWS</td>\n",
       "      <td>None</td>\n",
       "      <td>Django;FastAPI</td>\n",
       "      <td>Django;FastAPI</td>\n",
       "      <td>None</td>\n",
       "      <td>None</td>\n",
       "      <td>Docker;Git</td>\n",
       "      <td>Docker;Git;Kubernetes</td>\n",
       "      <td>PyCharm;Sublime Text</td>\n",
       "      <td>PyCharm;Sublime Text</td>\n",
       "      <td>Windows</td>\n",
       "      <td>Visit Stack Overflow;Google it;Panic</td>\n",
       "      <td>Stack Overflow;Stack Exchange</td>\n",
       "      <td>A few times per week</td>\n",
       "      <td>Yes</td>\n",
       "      <td>Less than once per month or monthly</td>\n",
       "      <td>Yes, definitely</td>\n",
       "      <td>No</td>\n",
       "      <td>25-34 years old</td>\n",
       "      <td>Man</td>\n",
       "      <td>No</td>\n",
       "      <td>None</td>\n",
       "      <td>South Asian</td>\n",
       "      <td>None</td>\n",
       "      <td>I have a concentration and/or memory disorder ...</td>\n",
       "      <td>Appropriate in length</td>\n",
       "      <td>Easy</td>\n",
       "      <td>NaN</td>\n",
       "    </tr>\n",
       "    <tr>\n",
       "      <th>1</th>\n",
       "      <td>I am a student who is learning to code</td>\n",
       "      <td>Student, full-time</td>\n",
       "      <td>India</td>\n",
       "      <td>NaN</td>\n",
       "      <td>NaN</td>\n",
       "      <td>Some college/university study without earning ...</td>\n",
       "      <td>5 - 10 years</td>\n",
       "      <td>School;Friend or family member</td>\n",
       "      <td>7</td>\n",
       "      <td>None</td>\n",
       "      <td>None</td>\n",
       "      <td>None</td>\n",
       "      <td>None</td>\n",
       "      <td>NaN</td>\n",
       "      <td>None</td>\n",
       "      <td>C#;HTML/CSS;Python</td>\n",
       "      <td>Java;Kotlin;Python</td>\n",
       "      <td>None</td>\n",
       "      <td>None</td>\n",
       "      <td>None</td>\n",
       "      <td>None</td>\n",
       "      <td>None</td>\n",
       "      <td>None</td>\n",
       "      <td>None</td>\n",
       "      <td>None</td>\n",
       "      <td>Unity 3D</td>\n",
       "      <td>None</td>\n",
       "      <td>Android Studio</td>\n",
       "      <td>Android Studio</td>\n",
       "      <td>Windows</td>\n",
       "      <td>Visit Stack Overflow;Google it;Watch help / tu...</td>\n",
       "      <td>Stack Overflow;Stack Exchange</td>\n",
       "      <td>Multiple times per day</td>\n",
       "      <td>Yes</td>\n",
       "      <td>Multiple times per day</td>\n",
       "      <td>Yes, definitely</td>\n",
       "      <td>No</td>\n",
       "      <td>Under 18 years old</td>\n",
       "      <td>Man</td>\n",
       "      <td>No</td>\n",
       "      <td>Prefer not to say</td>\n",
       "      <td>Prefer not to say</td>\n",
       "      <td>None of the above</td>\n",
       "      <td>None of the above</td>\n",
       "      <td>Appropriate in length</td>\n",
       "      <td>Easy</td>\n",
       "      <td>NaN</td>\n",
       "    </tr>\n",
       "    <tr>\n",
       "      <th>2</th>\n",
       "      <td>I am a student who is learning to code</td>\n",
       "      <td>Student, part-time</td>\n",
       "      <td>India</td>\n",
       "      <td>NaN</td>\n",
       "      <td>NaN</td>\n",
       "      <td>Bachelor’s degree (B.A., B.S., B.Eng., etc.)</td>\n",
       "      <td>11 - 17 years</td>\n",
       "      <td>School</td>\n",
       "      <td>3</td>\n",
       "      <td>None</td>\n",
       "      <td>None</td>\n",
       "      <td>None</td>\n",
       "      <td>None</td>\n",
       "      <td>NaN</td>\n",
       "      <td>None</td>\n",
       "      <td>C;C#;C++;HTML/CSS;JavaScript;Node.js;Python</td>\n",
       "      <td>None</td>\n",
       "      <td>MongoDB</td>\n",
       "      <td>None</td>\n",
       "      <td>Heroku</td>\n",
       "      <td>None</td>\n",
       "      <td>Express;jQuery;React.js</td>\n",
       "      <td>None</td>\n",
       "      <td>Keras;NumPy;TensorFlow</td>\n",
       "      <td>None</td>\n",
       "      <td>Flow;Unity 3D</td>\n",
       "      <td>None</td>\n",
       "      <td>IPython/Jupyter;Sublime Text;Visual Studio Code</td>\n",
       "      <td>None</td>\n",
       "      <td>Linux-based</td>\n",
       "      <td>Visit Stack Overflow;Go for a walk or other ph...</td>\n",
       "      <td>Stack Overflow;Stack Exchange</td>\n",
       "      <td>Multiple times per day</td>\n",
       "      <td>Yes</td>\n",
       "      <td>A few times per month or weekly</td>\n",
       "      <td>Yes, somewhat</td>\n",
       "      <td>Yes</td>\n",
       "      <td>18-24 years old</td>\n",
       "      <td>Woman</td>\n",
       "      <td>No</td>\n",
       "      <td>Straight / Heterosexual</td>\n",
       "      <td>White or of European descent</td>\n",
       "      <td>None of the above</td>\n",
       "      <td>I have a concentration and/or memory disorder ...</td>\n",
       "      <td>Appropriate in length</td>\n",
       "      <td>Easy</td>\n",
       "      <td>NaN</td>\n",
       "    </tr>\n",
       "    <tr>\n",
       "      <th>3</th>\n",
       "      <td>I am a student who is learning to code</td>\n",
       "      <td>Student, full-time</td>\n",
       "      <td>India</td>\n",
       "      <td>NaN</td>\n",
       "      <td>NaN</td>\n",
       "      <td>Some college/university study without earning ...</td>\n",
       "      <td>11 - 17 years</td>\n",
       "      <td>Coding Bootcamp;Other online resources (ex: vi...</td>\n",
       "      <td>None</td>\n",
       "      <td>None</td>\n",
       "      <td>None</td>\n",
       "      <td>None</td>\n",
       "      <td>None</td>\n",
       "      <td>NaN</td>\n",
       "      <td>None</td>\n",
       "      <td>C;HTML/CSS;Java;JavaScript;Kotlin;Node.js;Pyth...</td>\n",
       "      <td>Dart;Elixir;Go;SQL</td>\n",
       "      <td>None</td>\n",
       "      <td>None</td>\n",
       "      <td>Heroku</td>\n",
       "      <td>None</td>\n",
       "      <td>Django;Express;React.js</td>\n",
       "      <td>Angular</td>\n",
       "      <td>None</td>\n",
       "      <td>None</td>\n",
       "      <td>Git;Yarn</td>\n",
       "      <td>None</td>\n",
       "      <td>Android Studio;Atom;Notepad++;Sublime Text;Vis...</td>\n",
       "      <td>None</td>\n",
       "      <td>Windows</td>\n",
       "      <td>Visit Stack Overflow;Go for a walk or other ph...</td>\n",
       "      <td>Stack Overflow</td>\n",
       "      <td>Multiple times per day</td>\n",
       "      <td>Yes</td>\n",
       "      <td>A few times per week</td>\n",
       "      <td>Yes, definitely</td>\n",
       "      <td>No</td>\n",
       "      <td>18-24 years old</td>\n",
       "      <td>Man</td>\n",
       "      <td>No</td>\n",
       "      <td>Straight / Heterosexual</td>\n",
       "      <td>South Asian</td>\n",
       "      <td>None of the above</td>\n",
       "      <td>None of the above</td>\n",
       "      <td>Appropriate in length</td>\n",
       "      <td>Easy</td>\n",
       "      <td>NaN</td>\n",
       "    </tr>\n",
       "    <tr>\n",
       "      <th>4</th>\n",
       "      <td>I am a developer by profession</td>\n",
       "      <td>Employed full-time</td>\n",
       "      <td>India</td>\n",
       "      <td>NaN</td>\n",
       "      <td>NaN</td>\n",
       "      <td>Master’s degree (M.A., M.S., M.Eng., MBA, etc.)</td>\n",
       "      <td>11 - 17 years</td>\n",
       "      <td>Other online resources (ex: videos, blogs, etc...</td>\n",
       "      <td>5</td>\n",
       "      <td>4</td>\n",
       "      <td>Developer, full-stack</td>\n",
       "      <td>1,000 to 4,999 employees</td>\n",
       "      <td>INR\\tIndian rupee</td>\n",
       "      <td>NaN</td>\n",
       "      <td>None</td>\n",
       "      <td>HTML/CSS;JavaScript;Node.js;Python;TypeScript</td>\n",
       "      <td>HTML/CSS;JavaScript;Node.js;PowerShell;Python;...</td>\n",
       "      <td>Firebase;MongoDB;Redis</td>\n",
       "      <td>DynamoDB;Elasticsearch;Firebase;MongoDB;Redis</td>\n",
       "      <td>AWS;DigitalOcean;Heroku;Microsoft Azure;Oracle...</td>\n",
       "      <td>AWS;DigitalOcean;Google Cloud Platform;Heroku;...</td>\n",
       "      <td>Angular;Express;React.js</td>\n",
       "      <td>Angular;Express;React.js</td>\n",
       "      <td>Cordova</td>\n",
       "      <td>Cordova</td>\n",
       "      <td>Docker;Git;Kubernetes</td>\n",
       "      <td>Docker;Git;Kubernetes</td>\n",
       "      <td>Visual Studio Code;Xcode</td>\n",
       "      <td>Visual Studio Code;Xcode</td>\n",
       "      <td>MacOS</td>\n",
       "      <td>Visit Stack Overflow;Go for a walk or other ph...</td>\n",
       "      <td>Stack Overflow</td>\n",
       "      <td>Multiple times per day</td>\n",
       "      <td>Yes</td>\n",
       "      <td>Less than once per month or monthly</td>\n",
       "      <td>Yes, definitely</td>\n",
       "      <td>No</td>\n",
       "      <td>25-34 years old</td>\n",
       "      <td>Man</td>\n",
       "      <td>No</td>\n",
       "      <td>Prefer not to say</td>\n",
       "      <td>I don't know</td>\n",
       "      <td>None of the above</td>\n",
       "      <td>None of the above</td>\n",
       "      <td>Too long</td>\n",
       "      <td>Neither easy nor difficult</td>\n",
       "      <td>NaN</td>\n",
       "    </tr>\n",
       "  </tbody>\n",
       "</table>\n",
       "</div>"
      ],
      "text/plain": [
       "                               MainBranch          Employment Country  \\\n",
       "0          I am a developer by profession  Employed part-time   India   \n",
       "1  I am a student who is learning to code  Student, full-time   India   \n",
       "2  I am a student who is learning to code  Student, part-time   India   \n",
       "3  I am a student who is learning to code  Student, full-time   India   \n",
       "4          I am a developer by profession  Employed full-time   India   \n",
       "\n",
       "   US_State  UK_Country                                            EdLevel  \\\n",
       "0       NaN         NaN       Bachelor’s degree (B.A., B.S., B.Eng., etc.)   \n",
       "1       NaN         NaN  Some college/university study without earning ...   \n",
       "2       NaN         NaN       Bachelor’s degree (B.A., B.S., B.Eng., etc.)   \n",
       "3       NaN         NaN  Some college/university study without earning ...   \n",
       "4       NaN         NaN    Master’s degree (M.A., M.S., M.Eng., MBA, etc.)   \n",
       "\n",
       "      Age1stCode                                          LearnCode YearsCode  \\\n",
       "0  18 - 24 years                                    Coding Bootcamp         6   \n",
       "1   5 - 10 years                     School;Friend or family member         7   \n",
       "2  11 - 17 years                                             School         3   \n",
       "3  11 - 17 years  Coding Bootcamp;Other online resources (ex: vi...      None   \n",
       "4  11 - 17 years  Other online resources (ex: videos, blogs, etc...         5   \n",
       "\n",
       "  YearsCodePro                DevType                   OrgSize  \\\n",
       "0            4   Developer, front-end  10,000 or more employees   \n",
       "1         None                   None                      None   \n",
       "2         None                   None                      None   \n",
       "3         None                   None                      None   \n",
       "4            4  Developer, full-stack  1,000 to 4,999 employees   \n",
       "\n",
       "            Currency  CompTotal CompFreq  \\\n",
       "0  INR\\tIndian rupee        NaN  Monthly   \n",
       "1               None        NaN     None   \n",
       "2               None        NaN     None   \n",
       "3               None        NaN     None   \n",
       "4  INR\\tIndian rupee        NaN     None   \n",
       "\n",
       "                              LanguageHaveWorkedWith  \\\n",
       "0                                HTML/CSS;JavaScript   \n",
       "1                                 C#;HTML/CSS;Python   \n",
       "2        C;C#;C++;HTML/CSS;JavaScript;Node.js;Python   \n",
       "3  C;HTML/CSS;Java;JavaScript;Kotlin;Node.js;Pyth...   \n",
       "4      HTML/CSS;JavaScript;Node.js;Python;TypeScript   \n",
       "\n",
       "                              LanguageWantToWorkWith  DatabaseHaveWorkedWith  \\\n",
       "0                                HTML/CSS;JavaScript              PostgreSQL   \n",
       "1                                 Java;Kotlin;Python                    None   \n",
       "2                                               None                 MongoDB   \n",
       "3                                 Dart;Elixir;Go;SQL                    None   \n",
       "4  HTML/CSS;JavaScript;Node.js;PowerShell;Python;...  Firebase;MongoDB;Redis   \n",
       "\n",
       "                          DatabaseWantToWorkWith  \\\n",
       "0                                     PostgreSQL   \n",
       "1                                           None   \n",
       "2                                           None   \n",
       "3                                           None   \n",
       "4  DynamoDB;Elasticsearch;Firebase;MongoDB;Redis   \n",
       "\n",
       "                              PlatformHaveWorkedWith  \\\n",
       "0                                                AWS   \n",
       "1                                               None   \n",
       "2                                             Heroku   \n",
       "3                                             Heroku   \n",
       "4  AWS;DigitalOcean;Heroku;Microsoft Azure;Oracle...   \n",
       "\n",
       "                              PlatformWantToWorkWith  \\\n",
       "0                                               None   \n",
       "1                                               None   \n",
       "2                                               None   \n",
       "3                                               None   \n",
       "4  AWS;DigitalOcean;Google Cloud Platform;Heroku;...   \n",
       "\n",
       "     WebframeHaveWorkedWith    WebframeWantToWorkWith  MiscTechHaveWorkedWith  \\\n",
       "0            Django;FastAPI            Django;FastAPI                    None   \n",
       "1                      None                      None                    None   \n",
       "2   Express;jQuery;React.js                      None  Keras;NumPy;TensorFlow   \n",
       "3   Django;Express;React.js                   Angular                    None   \n",
       "4  Angular;Express;React.js  Angular;Express;React.js                 Cordova   \n",
       "\n",
       "  MiscTechWantToWorkWith ToolsTechHaveWorkedWith ToolsTechWantToWorkWith  \\\n",
       "0                   None              Docker;Git   Docker;Git;Kubernetes   \n",
       "1                   None                Unity 3D                    None   \n",
       "2                   None           Flow;Unity 3D                    None   \n",
       "3                   None                Git;Yarn                    None   \n",
       "4                Cordova   Docker;Git;Kubernetes   Docker;Git;Kubernetes   \n",
       "\n",
       "                        NEWCollabToolsHaveWorkedWith  \\\n",
       "0                               PyCharm;Sublime Text   \n",
       "1                                     Android Studio   \n",
       "2    IPython/Jupyter;Sublime Text;Visual Studio Code   \n",
       "3  Android Studio;Atom;Notepad++;Sublime Text;Vis...   \n",
       "4                           Visual Studio Code;Xcode   \n",
       "\n",
       "  NEWCollabToolsWantToWorkWith        OpSys  \\\n",
       "0         PyCharm;Sublime Text      Windows   \n",
       "1               Android Studio      Windows   \n",
       "2                         None  Linux-based   \n",
       "3                         None      Windows   \n",
       "4     Visual Studio Code;Xcode        MacOS   \n",
       "\n",
       "                                            NEWStuck  \\\n",
       "0               Visit Stack Overflow;Google it;Panic   \n",
       "1  Visit Stack Overflow;Google it;Watch help / tu...   \n",
       "2  Visit Stack Overflow;Go for a walk or other ph...   \n",
       "3  Visit Stack Overflow;Go for a walk or other ph...   \n",
       "4  Visit Stack Overflow;Go for a walk or other ph...   \n",
       "\n",
       "                      NEWSOSites             SOVisitFreq SOAccount  \\\n",
       "0  Stack Overflow;Stack Exchange    A few times per week       Yes   \n",
       "1  Stack Overflow;Stack Exchange  Multiple times per day       Yes   \n",
       "2  Stack Overflow;Stack Exchange  Multiple times per day       Yes   \n",
       "3                 Stack Overflow  Multiple times per day       Yes   \n",
       "4                 Stack Overflow  Multiple times per day       Yes   \n",
       "\n",
       "                            SOPartFreq           SOComm NEWOtherComms  \\\n",
       "0  Less than once per month or monthly  Yes, definitely            No   \n",
       "1               Multiple times per day  Yes, definitely            No   \n",
       "2      A few times per month or weekly    Yes, somewhat           Yes   \n",
       "3                 A few times per week  Yes, definitely            No   \n",
       "4  Less than once per month or monthly  Yes, definitely            No   \n",
       "\n",
       "                  Age Gender Trans                Sexuality  \\\n",
       "0     25-34 years old    Man    No                     None   \n",
       "1  Under 18 years old    Man    No        Prefer not to say   \n",
       "2     18-24 years old  Woman    No  Straight / Heterosexual   \n",
       "3     18-24 years old    Man    No  Straight / Heterosexual   \n",
       "4     25-34 years old    Man    No        Prefer not to say   \n",
       "\n",
       "                      Ethnicity      Accessibility  \\\n",
       "0                   South Asian               None   \n",
       "1             Prefer not to say  None of the above   \n",
       "2  White or of European descent  None of the above   \n",
       "3                   South Asian  None of the above   \n",
       "4                  I don't know  None of the above   \n",
       "\n",
       "                                        MentalHealth           SurveyLength  \\\n",
       "0  I have a concentration and/or memory disorder ...  Appropriate in length   \n",
       "1                                  None of the above  Appropriate in length   \n",
       "2  I have a concentration and/or memory disorder ...  Appropriate in length   \n",
       "3                                  None of the above  Appropriate in length   \n",
       "4                                  None of the above               Too long   \n",
       "\n",
       "                   SurveyEase  ConvertedCompYearly  \n",
       "0                        Easy                  NaN  \n",
       "1                        Easy                  NaN  \n",
       "2                        Easy                  NaN  \n",
       "3                        Easy                  NaN  \n",
       "4  Neither easy nor difficult                  NaN  "
      ]
     },
     "execution_count": 47,
     "metadata": {},
     "output_type": "execute_result"
    }
   ],
   "source": [
    "test = pd.read_json('modified4.json',orient='records', lines=True)\n",
    "test.head()"
   ]
  },
  {
   "cell_type": "code",
   "execution_count": 48,
   "id": "4528652a",
   "metadata": {},
   "outputs": [],
   "source": [
    "# sql export is not done"
   ]
  },
  {
   "cell_type": "code",
   "execution_count": 49,
   "id": "5aeb71b7",
   "metadata": {},
   "outputs": [],
   "source": [
    "# sql_df = pd.read_sql('table name',engine, index_col='ResponseId')"
   ]
  },
  {
   "cell_type": "code",
   "execution_count": 50,
   "id": "9a40cd68",
   "metadata": {},
   "outputs": [],
   "source": [
    "# to run sql specific query use read_sql_query\n",
    "# sql_df = pd.read_sql_query('select * from table name',engine, index_col='ResponseId')"
   ]
  },
  {
   "cell_type": "code",
   "execution_count": 51,
   "id": "95d38760",
   "metadata": {},
   "outputs": [],
   "source": [
    "posts_df = pd.read_json('https://raw.githubusercontent.com/CoreyMSchafer/code_snippets/master/Python/Flask_Blog/snippets/posts.json')"
   ]
  },
  {
   "cell_type": "code",
   "execution_count": 52,
   "id": "61ec6d40",
   "metadata": {},
   "outputs": [
    {
     "data": {
      "text/html": [
       "<div>\n",
       "<style scoped>\n",
       "    .dataframe tbody tr th:only-of-type {\n",
       "        vertical-align: middle;\n",
       "    }\n",
       "\n",
       "    .dataframe tbody tr th {\n",
       "        vertical-align: top;\n",
       "    }\n",
       "\n",
       "    .dataframe thead th {\n",
       "        text-align: right;\n",
       "    }\n",
       "</style>\n",
       "<table border=\"1\" class=\"dataframe\">\n",
       "  <thead>\n",
       "    <tr style=\"text-align: right;\">\n",
       "      <th></th>\n",
       "      <th>title</th>\n",
       "      <th>content</th>\n",
       "      <th>user_id</th>\n",
       "    </tr>\n",
       "  </thead>\n",
       "  <tbody>\n",
       "    <tr>\n",
       "      <th>0</th>\n",
       "      <td>My Updated Post</td>\n",
       "      <td>My first updated post!\\r\\n\\r\\nThis is exciting!</td>\n",
       "      <td>1</td>\n",
       "    </tr>\n",
       "    <tr>\n",
       "      <th>1</th>\n",
       "      <td>A Second Post</td>\n",
       "      <td>This is a post from a different user...</td>\n",
       "      <td>2</td>\n",
       "    </tr>\n",
       "    <tr>\n",
       "      <th>2</th>\n",
       "      <td>Top 5 Programming Lanaguages</td>\n",
       "      <td>Te melius apeirian postulant cum, labitur admo...</td>\n",
       "      <td>1</td>\n",
       "    </tr>\n",
       "    <tr>\n",
       "      <th>3</th>\n",
       "      <td>Sublime Text Tips and Tricks</td>\n",
       "      <td>Ea vix dico modus voluptatibus, mel iudico sua...</td>\n",
       "      <td>1</td>\n",
       "    </tr>\n",
       "    <tr>\n",
       "      <th>4</th>\n",
       "      <td>Best Python IDEs</td>\n",
       "      <td>Elit contentiones nam no, sea ut consul adipis...</td>\n",
       "      <td>1</td>\n",
       "    </tr>\n",
       "  </tbody>\n",
       "</table>\n",
       "</div>"
      ],
      "text/plain": [
       "                          title  \\\n",
       "0               My Updated Post   \n",
       "1                 A Second Post   \n",
       "2  Top 5 Programming Lanaguages   \n",
       "3  Sublime Text Tips and Tricks   \n",
       "4              Best Python IDEs   \n",
       "\n",
       "                                             content  user_id  \n",
       "0    My first updated post!\\r\\n\\r\\nThis is exciting!        1  \n",
       "1            This is a post from a different user...        2  \n",
       "2  Te melius apeirian postulant cum, labitur admo...        1  \n",
       "3  Ea vix dico modus voluptatibus, mel iudico sua...        1  \n",
       "4  Elit contentiones nam no, sea ut consul adipis...        1  "
      ]
     },
     "execution_count": 52,
     "metadata": {},
     "output_type": "execute_result"
    }
   ],
   "source": [
    "posts_df.head()"
   ]
  },
  {
   "cell_type": "code",
   "execution_count": null,
   "id": "48330e18",
   "metadata": {},
   "outputs": [],
   "source": []
  }
 ],
 "metadata": {
  "kernelspec": {
   "display_name": "Python 3 (ipykernel)",
   "language": "python",
   "name": "python3"
  },
  "language_info": {
   "codemirror_mode": {
    "name": "ipython",
    "version": 3
   },
   "file_extension": ".py",
   "mimetype": "text/x-python",
   "name": "python",
   "nbconvert_exporter": "python",
   "pygments_lexer": "ipython3",
   "version": "3.9.7"
  }
 },
 "nbformat": 4,
 "nbformat_minor": 5
}
